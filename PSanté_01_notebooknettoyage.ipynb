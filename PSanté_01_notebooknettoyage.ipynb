{
  "nbformat": 4,
  "nbformat_minor": 0,
  "metadata": {
    "colab": {
      "name": "PSanté_01_notebooknettoyage.ipynb",
      "provenance": [],
      "toc_visible": true,
      "authorship_tag": "ABX9TyM0Zh5hQRUcd96QNwaiwq9n",
      "include_colab_link": true
    },
    "kernelspec": {
      "display_name": "Python 3",
      "name": "python3"
    }
  },
  "cells": [
    {
      "cell_type": "markdown",
      "metadata": {
        "id": "view-in-github",
        "colab_type": "text"
      },
      "source": [
        "<a href=\"https://colab.research.google.com/github/Alonso-Celis/PSante_celis_alonso/blob/main/PSant%C3%A9_01_notebooknettoyage.ipynb\" target=\"_parent\"><img src=\"https://colab.research.google.com/assets/colab-badge.svg\" alt=\"Open In Colab\"/></a>"
      ]
    },
    {
      "cell_type": "markdown",
      "metadata": {
        "id": "-FZCDsn-nb2N"
      },
      "source": [
        "## Projet 2. Concevez une application au service de la santé publique. \n",
        "\n",
        "### Notebook de nettoyage.\n",
        "\n",
        "### Sommaire\n",
        "\n",
        "1.   **Chargement at affichage de données**\n",
        "2.   **Visualisation et traitement de valeurs manquantes**\n",
        "    * *Valeurs manquantes*\n",
        "    * *Doublons*\n",
        "3.   **Marques et produits vendus en France**\n",
        "4.   **Outliers**\n",
        "\n"
      ]
    },
    {
      "cell_type": "markdown",
      "metadata": {
        "id": "dV4RjsTNBQxh"
      },
      "source": [
        "# Chargement et affichage de données"
      ]
    },
    {
      "cell_type": "markdown",
      "metadata": {
        "id": "42r5aocN9DBx"
      },
      "source": [
        "Nous allons nettoyer le jeu de donnés [Open Food Facts](https://world.openfoodfacts.org/), une base de données sur les produits alimentaires faite par tout le monde, pour tout le monde. Les variables sont définies à [cette adresse](https://world.openfoodfacts.org/data/data-fields.txt). Ce nettoyage est fait en gardant en tête la nature de notre idée d'application, laquelle sera détaillée plus tard. Commençons par importer les libraries dont nous aurons besoin puis avec le chargement et affichage de données. "
      ]
    },
    {
      "cell_type": "code",
      "metadata": {
        "id": "giryh7V68tlF"
      },
      "source": [
        "import pandas as pd\n",
        "import matplotlib.pyplot as plt\n",
        "import seaborn as sns\n",
        "import numpy as np\n",
        "import missingno as msno\n",
        "%matplotlib inline"
      ],
      "execution_count": null,
      "outputs": []
    },
    {
      "cell_type": "code",
      "metadata": {
        "colab": {
          "background_save": true,
          "base_uri": "https://localhost:8080/"
        },
        "id": "d33QU8O3_VI-",
        "outputId": "d6332992-419e-4bc1-d201-784a0efa32b8"
      },
      "source": [
        "!wget https://static.openfoodfacts.org/data/en.openfoodfacts.org.products.csv"
      ],
      "execution_count": null,
      "outputs": [
        {
          "output_type": "stream",
          "text": [
            "--2020-12-07 17:28:47--  https://static.openfoodfacts.org/data/en.openfoodfacts.org.products.csv\n",
            "Resolving static.openfoodfacts.org (static.openfoodfacts.org)... 213.36.253.206\n",
            "Connecting to static.openfoodfacts.org (static.openfoodfacts.org)|213.36.253.206|:443... connected.\n",
            "HTTP request sent, awaiting response... 200 OK\n",
            "Length: 3252029595 (3.0G) [text/csv]\n",
            "Saving to: ‘en.openfoodfacts.org.products.csv.2’\n",
            "\n",
            "en.openfoodfacts.or 100%[===================>]   3.03G  21.5MB/s    in 2m 34s  \n",
            "\n",
            "2020-12-07 17:31:23 (20.1 MB/s) - ‘en.openfoodfacts.org.products.csv.2’ saved [3252029595/3252029595]\n",
            "\n"
          ],
          "name": "stdout"
        }
      ]
    },
    {
      "cell_type": "code",
      "metadata": {
        "id": "4ZqbRUNrCaDl"
      },
      "source": [
        "data = pd.read_csv(\"/content/en.openfoodfacts.org.products.csv\", sep=\"\\t\", low_memory=False)"
      ],
      "execution_count": null,
      "outputs": []
    },
    {
      "cell_type": "code",
      "metadata": {
        "id": "2cyVf3oESRWT"
      },
      "source": [
        "# Affichage\n",
        "pd.set_option(\"display.max_row\", len(data.columns))\n",
        "pd.set_option(\"display.max_column\", len(data.columns))"
      ],
      "execution_count": null,
      "outputs": []
    },
    {
      "cell_type": "code",
      "metadata": {
        "colab": {
          "base_uri": "https://localhost:8080/",
          "height": 632
        },
        "id": "aSBNblj8Cf9u",
        "outputId": "5e8115eb-18d2-4130-a14c-3be01cc7a617"
      },
      "source": [
        "data.head(5)"
      ],
      "execution_count": null,
      "outputs": [
        {
          "output_type": "execute_result",
          "data": {
            "text/html": [
              "<div>\n",
              "<style scoped>\n",
              "    .dataframe tbody tr th:only-of-type {\n",
              "        vertical-align: middle;\n",
              "    }\n",
              "\n",
              "    .dataframe tbody tr th {\n",
              "        vertical-align: top;\n",
              "    }\n",
              "\n",
              "    .dataframe thead th {\n",
              "        text-align: right;\n",
              "    }\n",
              "</style>\n",
              "<table border=\"1\" class=\"dataframe\">\n",
              "  <thead>\n",
              "    <tr style=\"text-align: right;\">\n",
              "      <th></th>\n",
              "      <th>code</th>\n",
              "      <th>url</th>\n",
              "      <th>creator</th>\n",
              "      <th>created_t</th>\n",
              "      <th>created_datetime</th>\n",
              "      <th>last_modified_t</th>\n",
              "      <th>last_modified_datetime</th>\n",
              "      <th>product_name</th>\n",
              "      <th>generic_name</th>\n",
              "      <th>quantity</th>\n",
              "      <th>packaging</th>\n",
              "      <th>packaging_tags</th>\n",
              "      <th>packaging_text</th>\n",
              "      <th>brands</th>\n",
              "      <th>brands_tags</th>\n",
              "      <th>categories</th>\n",
              "      <th>categories_tags</th>\n",
              "      <th>categories_en</th>\n",
              "      <th>origins</th>\n",
              "      <th>origins_tags</th>\n",
              "      <th>origins_en</th>\n",
              "      <th>manufacturing_places</th>\n",
              "      <th>manufacturing_places_tags</th>\n",
              "      <th>labels</th>\n",
              "      <th>labels_tags</th>\n",
              "      <th>labels_en</th>\n",
              "      <th>emb_codes</th>\n",
              "      <th>emb_codes_tags</th>\n",
              "      <th>first_packaging_code_geo</th>\n",
              "      <th>cities</th>\n",
              "      <th>cities_tags</th>\n",
              "      <th>purchase_places</th>\n",
              "      <th>stores</th>\n",
              "      <th>countries</th>\n",
              "      <th>countries_tags</th>\n",
              "      <th>countries_en</th>\n",
              "      <th>ingredients_text</th>\n",
              "      <th>allergens</th>\n",
              "      <th>allergens_en</th>\n",
              "      <th>traces</th>\n",
              "      <th>traces_tags</th>\n",
              "      <th>traces_en</th>\n",
              "      <th>serving_size</th>\n",
              "      <th>serving_quantity</th>\n",
              "      <th>no_nutriments</th>\n",
              "      <th>additives_n</th>\n",
              "      <th>additives</th>\n",
              "      <th>additives_tags</th>\n",
              "      <th>additives_en</th>\n",
              "      <th>ingredients_from_palm_oil_n</th>\n",
              "      <th>ingredients_from_palm_oil</th>\n",
              "      <th>ingredients_from_palm_oil_tags</th>\n",
              "      <th>ingredients_that_may_be_from_palm_oil_n</th>\n",
              "      <th>ingredients_that_may_be_from_palm_oil</th>\n",
              "      <th>ingredients_that_may_be_from_palm_oil_tags</th>\n",
              "      <th>nutriscore_score</th>\n",
              "      <th>nutriscore_grade</th>\n",
              "      <th>nova_group</th>\n",
              "      <th>pnns_groups_1</th>\n",
              "      <th>pnns_groups_2</th>\n",
              "      <th>states</th>\n",
              "      <th>states_tags</th>\n",
              "      <th>states_en</th>\n",
              "      <th>brand_owner</th>\n",
              "      <th>main_category</th>\n",
              "      <th>main_category_en</th>\n",
              "      <th>image_url</th>\n",
              "      <th>image_small_url</th>\n",
              "      <th>image_ingredients_url</th>\n",
              "      <th>image_ingredients_small_url</th>\n",
              "      <th>image_nutrition_url</th>\n",
              "      <th>image_nutrition_small_url</th>\n",
              "      <th>energy-kj_100g</th>\n",
              "      <th>energy-kcal_100g</th>\n",
              "      <th>energy_100g</th>\n",
              "      <th>energy-from-fat_100g</th>\n",
              "      <th>fat_100g</th>\n",
              "      <th>saturated-fat_100g</th>\n",
              "      <th>-butyric-acid_100g</th>\n",
              "      <th>-caproic-acid_100g</th>\n",
              "      <th>-caprylic-acid_100g</th>\n",
              "      <th>-capric-acid_100g</th>\n",
              "      <th>-lauric-acid_100g</th>\n",
              "      <th>-myristic-acid_100g</th>\n",
              "      <th>-palmitic-acid_100g</th>\n",
              "      <th>-stearic-acid_100g</th>\n",
              "      <th>-arachidic-acid_100g</th>\n",
              "      <th>-behenic-acid_100g</th>\n",
              "      <th>-lignoceric-acid_100g</th>\n",
              "      <th>-cerotic-acid_100g</th>\n",
              "      <th>-montanic-acid_100g</th>\n",
              "      <th>-melissic-acid_100g</th>\n",
              "      <th>monounsaturated-fat_100g</th>\n",
              "      <th>polyunsaturated-fat_100g</th>\n",
              "      <th>omega-3-fat_100g</th>\n",
              "      <th>-alpha-linolenic-acid_100g</th>\n",
              "      <th>-eicosapentaenoic-acid_100g</th>\n",
              "      <th>-docosahexaenoic-acid_100g</th>\n",
              "      <th>omega-6-fat_100g</th>\n",
              "      <th>-linoleic-acid_100g</th>\n",
              "      <th>-arachidonic-acid_100g</th>\n",
              "      <th>-gamma-linolenic-acid_100g</th>\n",
              "      <th>-dihomo-gamma-linolenic-acid_100g</th>\n",
              "      <th>omega-9-fat_100g</th>\n",
              "      <th>-oleic-acid_100g</th>\n",
              "      <th>-elaidic-acid_100g</th>\n",
              "      <th>-gondoic-acid_100g</th>\n",
              "      <th>-mead-acid_100g</th>\n",
              "      <th>-erucic-acid_100g</th>\n",
              "      <th>-nervonic-acid_100g</th>\n",
              "      <th>trans-fat_100g</th>\n",
              "      <th>cholesterol_100g</th>\n",
              "      <th>carbohydrates_100g</th>\n",
              "      <th>sugars_100g</th>\n",
              "      <th>-sucrose_100g</th>\n",
              "      <th>-glucose_100g</th>\n",
              "      <th>-fructose_100g</th>\n",
              "      <th>-lactose_100g</th>\n",
              "      <th>-maltose_100g</th>\n",
              "      <th>-maltodextrins_100g</th>\n",
              "      <th>starch_100g</th>\n",
              "      <th>polyols_100g</th>\n",
              "      <th>fiber_100g</th>\n",
              "      <th>-soluble-fiber_100g</th>\n",
              "      <th>-insoluble-fiber_100g</th>\n",
              "      <th>proteins_100g</th>\n",
              "      <th>casein_100g</th>\n",
              "      <th>serum-proteins_100g</th>\n",
              "      <th>nucleotides_100g</th>\n",
              "      <th>salt_100g</th>\n",
              "      <th>sodium_100g</th>\n",
              "      <th>alcohol_100g</th>\n",
              "      <th>vitamin-a_100g</th>\n",
              "      <th>beta-carotene_100g</th>\n",
              "      <th>vitamin-d_100g</th>\n",
              "      <th>vitamin-e_100g</th>\n",
              "      <th>vitamin-k_100g</th>\n",
              "      <th>vitamin-c_100g</th>\n",
              "      <th>vitamin-b1_100g</th>\n",
              "      <th>vitamin-b2_100g</th>\n",
              "      <th>vitamin-pp_100g</th>\n",
              "      <th>vitamin-b6_100g</th>\n",
              "      <th>vitamin-b9_100g</th>\n",
              "      <th>folates_100g</th>\n",
              "      <th>vitamin-b12_100g</th>\n",
              "      <th>biotin_100g</th>\n",
              "      <th>pantothenic-acid_100g</th>\n",
              "      <th>silica_100g</th>\n",
              "      <th>bicarbonate_100g</th>\n",
              "      <th>potassium_100g</th>\n",
              "      <th>chloride_100g</th>\n",
              "      <th>calcium_100g</th>\n",
              "      <th>phosphorus_100g</th>\n",
              "      <th>iron_100g</th>\n",
              "      <th>magnesium_100g</th>\n",
              "      <th>zinc_100g</th>\n",
              "      <th>copper_100g</th>\n",
              "      <th>manganese_100g</th>\n",
              "      <th>fluoride_100g</th>\n",
              "      <th>selenium_100g</th>\n",
              "      <th>chromium_100g</th>\n",
              "      <th>molybdenum_100g</th>\n",
              "      <th>iodine_100g</th>\n",
              "      <th>caffeine_100g</th>\n",
              "      <th>taurine_100g</th>\n",
              "      <th>ph_100g</th>\n",
              "      <th>fruits-vegetables-nuts_100g</th>\n",
              "      <th>fruits-vegetables-nuts-dried_100g</th>\n",
              "      <th>fruits-vegetables-nuts-estimate_100g</th>\n",
              "      <th>collagen-meat-protein-ratio_100g</th>\n",
              "      <th>cocoa_100g</th>\n",
              "      <th>chlorophyl_100g</th>\n",
              "      <th>carbon-footprint_100g</th>\n",
              "      <th>carbon-footprint-from-meat-or-fish_100g</th>\n",
              "      <th>nutrition-score-fr_100g</th>\n",
              "      <th>nutrition-score-uk_100g</th>\n",
              "      <th>glycemic-index_100g</th>\n",
              "      <th>water-hardness_100g</th>\n",
              "      <th>choline_100g</th>\n",
              "      <th>phylloquinone_100g</th>\n",
              "      <th>beta-glucan_100g</th>\n",
              "      <th>inositol_100g</th>\n",
              "      <th>carnitine_100g</th>\n",
              "    </tr>\n",
              "  </thead>\n",
              "  <tbody>\n",
              "    <tr>\n",
              "      <th>0</th>\n",
              "      <td>0000000000017</td>\n",
              "      <td>http://world-en.openfoodfacts.org/product/0000...</td>\n",
              "      <td>kiliweb</td>\n",
              "      <td>1529059080</td>\n",
              "      <td>2018-06-15T10:38:00Z</td>\n",
              "      <td>1561463718</td>\n",
              "      <td>2019-06-25T11:55:18Z</td>\n",
              "      <td>Vitória crackers</td>\n",
              "      <td>NaN</td>\n",
              "      <td>NaN</td>\n",
              "      <td>NaN</td>\n",
              "      <td>NaN</td>\n",
              "      <td>NaN</td>\n",
              "      <td>NaN</td>\n",
              "      <td>NaN</td>\n",
              "      <td>NaN</td>\n",
              "      <td>NaN</td>\n",
              "      <td>NaN</td>\n",
              "      <td>NaN</td>\n",
              "      <td>NaN</td>\n",
              "      <td>NaN</td>\n",
              "      <td>NaN</td>\n",
              "      <td>NaN</td>\n",
              "      <td>NaN</td>\n",
              "      <td>NaN</td>\n",
              "      <td>NaN</td>\n",
              "      <td>NaN</td>\n",
              "      <td>NaN</td>\n",
              "      <td>NaN</td>\n",
              "      <td>NaN</td>\n",
              "      <td>NaN</td>\n",
              "      <td>NaN</td>\n",
              "      <td>NaN</td>\n",
              "      <td>France</td>\n",
              "      <td>en:france</td>\n",
              "      <td>France</td>\n",
              "      <td>NaN</td>\n",
              "      <td>NaN</td>\n",
              "      <td>NaN</td>\n",
              "      <td>NaN</td>\n",
              "      <td>NaN</td>\n",
              "      <td>NaN</td>\n",
              "      <td>NaN</td>\n",
              "      <td>NaN</td>\n",
              "      <td>NaN</td>\n",
              "      <td>NaN</td>\n",
              "      <td>NaN</td>\n",
              "      <td>NaN</td>\n",
              "      <td>NaN</td>\n",
              "      <td>NaN</td>\n",
              "      <td>NaN</td>\n",
              "      <td>NaN</td>\n",
              "      <td>NaN</td>\n",
              "      <td>NaN</td>\n",
              "      <td>NaN</td>\n",
              "      <td>NaN</td>\n",
              "      <td>NaN</td>\n",
              "      <td>NaN</td>\n",
              "      <td>unknown</td>\n",
              "      <td>unknown</td>\n",
              "      <td>en:to-be-completed, en:nutrition-facts-complet...</td>\n",
              "      <td>en:to-be-completed,en:nutrition-facts-complete...</td>\n",
              "      <td>To be completed,Nutrition facts completed,Ingr...</td>\n",
              "      <td>NaN</td>\n",
              "      <td>NaN</td>\n",
              "      <td>NaN</td>\n",
              "      <td>https://static.openfoodfacts.org/images/produc...</td>\n",
              "      <td>https://static.openfoodfacts.org/images/produc...</td>\n",
              "      <td>https://static.openfoodfacts.org/images/produc...</td>\n",
              "      <td>https://static.openfoodfacts.org/images/produc...</td>\n",
              "      <td>NaN</td>\n",
              "      <td>NaN</td>\n",
              "      <td>NaN</td>\n",
              "      <td>375.0</td>\n",
              "      <td>1569.0</td>\n",
              "      <td>NaN</td>\n",
              "      <td>7.0</td>\n",
              "      <td>3.08</td>\n",
              "      <td>NaN</td>\n",
              "      <td>NaN</td>\n",
              "      <td>NaN</td>\n",
              "      <td>NaN</td>\n",
              "      <td>NaN</td>\n",
              "      <td>NaN</td>\n",
              "      <td>NaN</td>\n",
              "      <td>NaN</td>\n",
              "      <td>NaN</td>\n",
              "      <td>NaN</td>\n",
              "      <td>NaN</td>\n",
              "      <td>NaN</td>\n",
              "      <td>NaN</td>\n",
              "      <td>NaN</td>\n",
              "      <td>NaN</td>\n",
              "      <td>NaN</td>\n",
              "      <td>NaN</td>\n",
              "      <td>NaN</td>\n",
              "      <td>NaN</td>\n",
              "      <td>NaN</td>\n",
              "      <td>NaN</td>\n",
              "      <td>NaN</td>\n",
              "      <td>NaN</td>\n",
              "      <td>NaN</td>\n",
              "      <td>NaN</td>\n",
              "      <td>NaN</td>\n",
              "      <td>NaN</td>\n",
              "      <td>NaN</td>\n",
              "      <td>NaN</td>\n",
              "      <td>NaN</td>\n",
              "      <td>NaN</td>\n",
              "      <td>NaN</td>\n",
              "      <td>NaN</td>\n",
              "      <td>NaN</td>\n",
              "      <td>70.1</td>\n",
              "      <td>15.0</td>\n",
              "      <td>NaN</td>\n",
              "      <td>NaN</td>\n",
              "      <td>NaN</td>\n",
              "      <td>NaN</td>\n",
              "      <td>NaN</td>\n",
              "      <td>NaN</td>\n",
              "      <td>NaN</td>\n",
              "      <td>NaN</td>\n",
              "      <td>NaN</td>\n",
              "      <td>NaN</td>\n",
              "      <td>NaN</td>\n",
              "      <td>7.8</td>\n",
              "      <td>NaN</td>\n",
              "      <td>NaN</td>\n",
              "      <td>NaN</td>\n",
              "      <td>1.4</td>\n",
              "      <td>0.56</td>\n",
              "      <td>NaN</td>\n",
              "      <td>NaN</td>\n",
              "      <td>NaN</td>\n",
              "      <td>NaN</td>\n",
              "      <td>NaN</td>\n",
              "      <td>NaN</td>\n",
              "      <td>NaN</td>\n",
              "      <td>NaN</td>\n",
              "      <td>NaN</td>\n",
              "      <td>NaN</td>\n",
              "      <td>NaN</td>\n",
              "      <td>NaN</td>\n",
              "      <td>NaN</td>\n",
              "      <td>NaN</td>\n",
              "      <td>NaN</td>\n",
              "      <td>NaN</td>\n",
              "      <td>NaN</td>\n",
              "      <td>NaN</td>\n",
              "      <td>NaN</td>\n",
              "      <td>NaN</td>\n",
              "      <td>NaN</td>\n",
              "      <td>NaN</td>\n",
              "      <td>NaN</td>\n",
              "      <td>NaN</td>\n",
              "      <td>NaN</td>\n",
              "      <td>NaN</td>\n",
              "      <td>NaN</td>\n",
              "      <td>NaN</td>\n",
              "      <td>NaN</td>\n",
              "      <td>NaN</td>\n",
              "      <td>NaN</td>\n",
              "      <td>NaN</td>\n",
              "      <td>NaN</td>\n",
              "      <td>NaN</td>\n",
              "      <td>NaN</td>\n",
              "      <td>NaN</td>\n",
              "      <td>NaN</td>\n",
              "      <td>NaN</td>\n",
              "      <td>NaN</td>\n",
              "      <td>NaN</td>\n",
              "      <td>NaN</td>\n",
              "      <td>NaN</td>\n",
              "      <td>NaN</td>\n",
              "      <td>NaN</td>\n",
              "      <td>NaN</td>\n",
              "      <td>NaN</td>\n",
              "      <td>NaN</td>\n",
              "      <td>NaN</td>\n",
              "      <td>NaN</td>\n",
              "      <td>NaN</td>\n",
              "      <td>NaN</td>\n",
              "      <td>NaN</td>\n",
              "    </tr>\n",
              "    <tr>\n",
              "      <th>1</th>\n",
              "      <td>0000000000031</td>\n",
              "      <td>http://world-en.openfoodfacts.org/product/0000...</td>\n",
              "      <td>isagoofy</td>\n",
              "      <td>1539464774</td>\n",
              "      <td>2018-10-13T21:06:14Z</td>\n",
              "      <td>1539464817</td>\n",
              "      <td>2018-10-13T21:06:57Z</td>\n",
              "      <td>Cacao</td>\n",
              "      <td>NaN</td>\n",
              "      <td>130 g</td>\n",
              "      <td>NaN</td>\n",
              "      <td>NaN</td>\n",
              "      <td>NaN</td>\n",
              "      <td>NaN</td>\n",
              "      <td>NaN</td>\n",
              "      <td>NaN</td>\n",
              "      <td>NaN</td>\n",
              "      <td>NaN</td>\n",
              "      <td>NaN</td>\n",
              "      <td>NaN</td>\n",
              "      <td>NaN</td>\n",
              "      <td>NaN</td>\n",
              "      <td>NaN</td>\n",
              "      <td>NaN</td>\n",
              "      <td>NaN</td>\n",
              "      <td>NaN</td>\n",
              "      <td>NaN</td>\n",
              "      <td>NaN</td>\n",
              "      <td>NaN</td>\n",
              "      <td>NaN</td>\n",
              "      <td>NaN</td>\n",
              "      <td>NaN</td>\n",
              "      <td>NaN</td>\n",
              "      <td>France</td>\n",
              "      <td>en:france</td>\n",
              "      <td>France</td>\n",
              "      <td>NaN</td>\n",
              "      <td>NaN</td>\n",
              "      <td>NaN</td>\n",
              "      <td>NaN</td>\n",
              "      <td>NaN</td>\n",
              "      <td>NaN</td>\n",
              "      <td>NaN</td>\n",
              "      <td>NaN</td>\n",
              "      <td>NaN</td>\n",
              "      <td>NaN</td>\n",
              "      <td>NaN</td>\n",
              "      <td>NaN</td>\n",
              "      <td>NaN</td>\n",
              "      <td>NaN</td>\n",
              "      <td>NaN</td>\n",
              "      <td>NaN</td>\n",
              "      <td>NaN</td>\n",
              "      <td>NaN</td>\n",
              "      <td>NaN</td>\n",
              "      <td>NaN</td>\n",
              "      <td>NaN</td>\n",
              "      <td>NaN</td>\n",
              "      <td>unknown</td>\n",
              "      <td>unknown</td>\n",
              "      <td>en:to-be-completed, en:nutrition-facts-to-be-c...</td>\n",
              "      <td>en:to-be-completed,en:nutrition-facts-to-be-co...</td>\n",
              "      <td>To be completed,Nutrition facts to be complete...</td>\n",
              "      <td>NaN</td>\n",
              "      <td>NaN</td>\n",
              "      <td>NaN</td>\n",
              "      <td>https://static.openfoodfacts.org/images/produc...</td>\n",
              "      <td>https://static.openfoodfacts.org/images/produc...</td>\n",
              "      <td>NaN</td>\n",
              "      <td>NaN</td>\n",
              "      <td>NaN</td>\n",
              "      <td>NaN</td>\n",
              "      <td>NaN</td>\n",
              "      <td>NaN</td>\n",
              "      <td>NaN</td>\n",
              "      <td>NaN</td>\n",
              "      <td>NaN</td>\n",
              "      <td>NaN</td>\n",
              "      <td>NaN</td>\n",
              "      <td>NaN</td>\n",
              "      <td>NaN</td>\n",
              "      <td>NaN</td>\n",
              "      <td>NaN</td>\n",
              "      <td>NaN</td>\n",
              "      <td>NaN</td>\n",
              "      <td>NaN</td>\n",
              "      <td>NaN</td>\n",
              "      <td>NaN</td>\n",
              "      <td>NaN</td>\n",
              "      <td>NaN</td>\n",
              "      <td>NaN</td>\n",
              "      <td>NaN</td>\n",
              "      <td>NaN</td>\n",
              "      <td>NaN</td>\n",
              "      <td>NaN</td>\n",
              "      <td>NaN</td>\n",
              "      <td>NaN</td>\n",
              "      <td>NaN</td>\n",
              "      <td>NaN</td>\n",
              "      <td>NaN</td>\n",
              "      <td>NaN</td>\n",
              "      <td>NaN</td>\n",
              "      <td>NaN</td>\n",
              "      <td>NaN</td>\n",
              "      <td>NaN</td>\n",
              "      <td>NaN</td>\n",
              "      <td>NaN</td>\n",
              "      <td>NaN</td>\n",
              "      <td>NaN</td>\n",
              "      <td>NaN</td>\n",
              "      <td>NaN</td>\n",
              "      <td>NaN</td>\n",
              "      <td>NaN</td>\n",
              "      <td>NaN</td>\n",
              "      <td>NaN</td>\n",
              "      <td>NaN</td>\n",
              "      <td>NaN</td>\n",
              "      <td>NaN</td>\n",
              "      <td>NaN</td>\n",
              "      <td>NaN</td>\n",
              "      <td>NaN</td>\n",
              "      <td>NaN</td>\n",
              "      <td>NaN</td>\n",
              "      <td>NaN</td>\n",
              "      <td>NaN</td>\n",
              "      <td>NaN</td>\n",
              "      <td>NaN</td>\n",
              "      <td>NaN</td>\n",
              "      <td>NaN</td>\n",
              "      <td>NaN</td>\n",
              "      <td>NaN</td>\n",
              "      <td>NaN</td>\n",
              "      <td>NaN</td>\n",
              "      <td>NaN</td>\n",
              "      <td>NaN</td>\n",
              "      <td>NaN</td>\n",
              "      <td>NaN</td>\n",
              "      <td>NaN</td>\n",
              "      <td>NaN</td>\n",
              "      <td>NaN</td>\n",
              "      <td>NaN</td>\n",
              "      <td>NaN</td>\n",
              "      <td>NaN</td>\n",
              "      <td>NaN</td>\n",
              "      <td>NaN</td>\n",
              "      <td>NaN</td>\n",
              "      <td>NaN</td>\n",
              "      <td>NaN</td>\n",
              "      <td>NaN</td>\n",
              "      <td>NaN</td>\n",
              "      <td>NaN</td>\n",
              "      <td>NaN</td>\n",
              "      <td>NaN</td>\n",
              "      <td>NaN</td>\n",
              "      <td>NaN</td>\n",
              "      <td>NaN</td>\n",
              "      <td>NaN</td>\n",
              "      <td>NaN</td>\n",
              "      <td>NaN</td>\n",
              "      <td>NaN</td>\n",
              "      <td>NaN</td>\n",
              "      <td>NaN</td>\n",
              "      <td>NaN</td>\n",
              "      <td>NaN</td>\n",
              "      <td>NaN</td>\n",
              "      <td>NaN</td>\n",
              "      <td>NaN</td>\n",
              "      <td>NaN</td>\n",
              "      <td>NaN</td>\n",
              "      <td>NaN</td>\n",
              "      <td>NaN</td>\n",
              "      <td>NaN</td>\n",
              "      <td>NaN</td>\n",
              "      <td>NaN</td>\n",
              "      <td>NaN</td>\n",
              "      <td>NaN</td>\n",
              "      <td>NaN</td>\n",
              "      <td>NaN</td>\n",
              "      <td>NaN</td>\n",
              "      <td>NaN</td>\n",
              "      <td>NaN</td>\n",
              "      <td>NaN</td>\n",
              "      <td>NaN</td>\n",
              "    </tr>\n",
              "    <tr>\n",
              "      <th>2</th>\n",
              "      <td>000000000003327986</td>\n",
              "      <td>http://world-en.openfoodfacts.org/product/0000...</td>\n",
              "      <td>kiliweb</td>\n",
              "      <td>1574175736</td>\n",
              "      <td>2019-11-19T15:02:16Z</td>\n",
              "      <td>1574175737</td>\n",
              "      <td>2019-11-19T15:02:17Z</td>\n",
              "      <td>Filetes de pollo empanado</td>\n",
              "      <td>NaN</td>\n",
              "      <td>NaN</td>\n",
              "      <td>NaN</td>\n",
              "      <td>NaN</td>\n",
              "      <td>NaN</td>\n",
              "      <td>NaN</td>\n",
              "      <td>NaN</td>\n",
              "      <td>NaN</td>\n",
              "      <td>NaN</td>\n",
              "      <td>NaN</td>\n",
              "      <td>NaN</td>\n",
              "      <td>NaN</td>\n",
              "      <td>NaN</td>\n",
              "      <td>NaN</td>\n",
              "      <td>NaN</td>\n",
              "      <td>NaN</td>\n",
              "      <td>NaN</td>\n",
              "      <td>NaN</td>\n",
              "      <td>NaN</td>\n",
              "      <td>NaN</td>\n",
              "      <td>NaN</td>\n",
              "      <td>NaN</td>\n",
              "      <td>NaN</td>\n",
              "      <td>NaN</td>\n",
              "      <td>NaN</td>\n",
              "      <td>en:es</td>\n",
              "      <td>en:spain</td>\n",
              "      <td>Spain</td>\n",
              "      <td>NaN</td>\n",
              "      <td>NaN</td>\n",
              "      <td>NaN</td>\n",
              "      <td>NaN</td>\n",
              "      <td>NaN</td>\n",
              "      <td>NaN</td>\n",
              "      <td>NaN</td>\n",
              "      <td>NaN</td>\n",
              "      <td>NaN</td>\n",
              "      <td>NaN</td>\n",
              "      <td>NaN</td>\n",
              "      <td>NaN</td>\n",
              "      <td>NaN</td>\n",
              "      <td>NaN</td>\n",
              "      <td>NaN</td>\n",
              "      <td>NaN</td>\n",
              "      <td>NaN</td>\n",
              "      <td>NaN</td>\n",
              "      <td>NaN</td>\n",
              "      <td>NaN</td>\n",
              "      <td>NaN</td>\n",
              "      <td>NaN</td>\n",
              "      <td>unknown</td>\n",
              "      <td>unknown</td>\n",
              "      <td>en:to-be-completed, en:nutrition-facts-to-be-c...</td>\n",
              "      <td>en:to-be-completed,en:nutrition-facts-to-be-co...</td>\n",
              "      <td>To be completed,Nutrition facts to be complete...</td>\n",
              "      <td>NaN</td>\n",
              "      <td>NaN</td>\n",
              "      <td>NaN</td>\n",
              "      <td>https://static.openfoodfacts.org/images/produc...</td>\n",
              "      <td>https://static.openfoodfacts.org/images/produc...</td>\n",
              "      <td>NaN</td>\n",
              "      <td>NaN</td>\n",
              "      <td>https://static.openfoodfacts.org/images/produc...</td>\n",
              "      <td>https://static.openfoodfacts.org/images/produc...</td>\n",
              "      <td>NaN</td>\n",
              "      <td>NaN</td>\n",
              "      <td>NaN</td>\n",
              "      <td>NaN</td>\n",
              "      <td>NaN</td>\n",
              "      <td>NaN</td>\n",
              "      <td>NaN</td>\n",
              "      <td>NaN</td>\n",
              "      <td>NaN</td>\n",
              "      <td>NaN</td>\n",
              "      <td>NaN</td>\n",
              "      <td>NaN</td>\n",
              "      <td>NaN</td>\n",
              "      <td>NaN</td>\n",
              "      <td>NaN</td>\n",
              "      <td>NaN</td>\n",
              "      <td>NaN</td>\n",
              "      <td>NaN</td>\n",
              "      <td>NaN</td>\n",
              "      <td>NaN</td>\n",
              "      <td>NaN</td>\n",
              "      <td>NaN</td>\n",
              "      <td>NaN</td>\n",
              "      <td>NaN</td>\n",
              "      <td>NaN</td>\n",
              "      <td>NaN</td>\n",
              "      <td>NaN</td>\n",
              "      <td>NaN</td>\n",
              "      <td>NaN</td>\n",
              "      <td>NaN</td>\n",
              "      <td>NaN</td>\n",
              "      <td>NaN</td>\n",
              "      <td>NaN</td>\n",
              "      <td>NaN</td>\n",
              "      <td>NaN</td>\n",
              "      <td>NaN</td>\n",
              "      <td>NaN</td>\n",
              "      <td>NaN</td>\n",
              "      <td>NaN</td>\n",
              "      <td>NaN</td>\n",
              "      <td>NaN</td>\n",
              "      <td>NaN</td>\n",
              "      <td>NaN</td>\n",
              "      <td>NaN</td>\n",
              "      <td>NaN</td>\n",
              "      <td>NaN</td>\n",
              "      <td>NaN</td>\n",
              "      <td>NaN</td>\n",
              "      <td>NaN</td>\n",
              "      <td>NaN</td>\n",
              "      <td>NaN</td>\n",
              "      <td>NaN</td>\n",
              "      <td>NaN</td>\n",
              "      <td>NaN</td>\n",
              "      <td>NaN</td>\n",
              "      <td>NaN</td>\n",
              "      <td>NaN</td>\n",
              "      <td>NaN</td>\n",
              "      <td>NaN</td>\n",
              "      <td>NaN</td>\n",
              "      <td>NaN</td>\n",
              "      <td>NaN</td>\n",
              "      <td>NaN</td>\n",
              "      <td>NaN</td>\n",
              "      <td>NaN</td>\n",
              "      <td>NaN</td>\n",
              "      <td>NaN</td>\n",
              "      <td>NaN</td>\n",
              "      <td>NaN</td>\n",
              "      <td>NaN</td>\n",
              "      <td>NaN</td>\n",
              "      <td>NaN</td>\n",
              "      <td>NaN</td>\n",
              "      <td>NaN</td>\n",
              "      <td>NaN</td>\n",
              "      <td>NaN</td>\n",
              "      <td>NaN</td>\n",
              "      <td>NaN</td>\n",
              "      <td>NaN</td>\n",
              "      <td>NaN</td>\n",
              "      <td>NaN</td>\n",
              "      <td>NaN</td>\n",
              "      <td>NaN</td>\n",
              "      <td>NaN</td>\n",
              "      <td>NaN</td>\n",
              "      <td>NaN</td>\n",
              "      <td>NaN</td>\n",
              "      <td>NaN</td>\n",
              "      <td>NaN</td>\n",
              "      <td>NaN</td>\n",
              "      <td>NaN</td>\n",
              "      <td>NaN</td>\n",
              "      <td>NaN</td>\n",
              "      <td>NaN</td>\n",
              "      <td>NaN</td>\n",
              "      <td>NaN</td>\n",
              "      <td>NaN</td>\n",
              "      <td>NaN</td>\n",
              "      <td>NaN</td>\n",
              "      <td>NaN</td>\n",
              "      <td>NaN</td>\n",
              "      <td>NaN</td>\n",
              "      <td>NaN</td>\n",
              "      <td>NaN</td>\n",
              "      <td>NaN</td>\n",
              "      <td>NaN</td>\n",
              "      <td>NaN</td>\n",
              "      <td>NaN</td>\n",
              "      <td>NaN</td>\n",
              "      <td>NaN</td>\n",
              "      <td>NaN</td>\n",
              "    </tr>\n",
              "    <tr>\n",
              "      <th>3</th>\n",
              "      <td>0000000000100</td>\n",
              "      <td>http://world-en.openfoodfacts.org/product/0000...</td>\n",
              "      <td>del51</td>\n",
              "      <td>1444572561</td>\n",
              "      <td>2015-10-11T14:09:21Z</td>\n",
              "      <td>1444659212</td>\n",
              "      <td>2015-10-12T14:13:32Z</td>\n",
              "      <td>moutarde au moût de raisin</td>\n",
              "      <td>NaN</td>\n",
              "      <td>100g</td>\n",
              "      <td>NaN</td>\n",
              "      <td>NaN</td>\n",
              "      <td>NaN</td>\n",
              "      <td>courte paille</td>\n",
              "      <td>courte-paille</td>\n",
              "      <td>Epicerie, Condiments, Sauces, Moutardes</td>\n",
              "      <td>en:groceries,en:condiments,en:sauces,en:mustards</td>\n",
              "      <td>Groceries,Condiments,Sauces,Mustards</td>\n",
              "      <td>NaN</td>\n",
              "      <td>NaN</td>\n",
              "      <td>NaN</td>\n",
              "      <td>NaN</td>\n",
              "      <td>NaN</td>\n",
              "      <td>Delois france</td>\n",
              "      <td>fr:delois-france</td>\n",
              "      <td>fr:delois-france</td>\n",
              "      <td>NaN</td>\n",
              "      <td>NaN</td>\n",
              "      <td>NaN</td>\n",
              "      <td>NaN</td>\n",
              "      <td>NaN</td>\n",
              "      <td>NaN</td>\n",
              "      <td>courte paille</td>\n",
              "      <td>France</td>\n",
              "      <td>en:france</td>\n",
              "      <td>France</td>\n",
              "      <td>eau graines de téguments de moutarde vinaigre ...</td>\n",
              "      <td>en:mustard</td>\n",
              "      <td>NaN</td>\n",
              "      <td>NaN</td>\n",
              "      <td>NaN</td>\n",
              "      <td>NaN</td>\n",
              "      <td>NaN</td>\n",
              "      <td>NaN</td>\n",
              "      <td>NaN</td>\n",
              "      <td>0.0</td>\n",
              "      <td>NaN</td>\n",
              "      <td>NaN</td>\n",
              "      <td>NaN</td>\n",
              "      <td>0.0</td>\n",
              "      <td>NaN</td>\n",
              "      <td>NaN</td>\n",
              "      <td>0.0</td>\n",
              "      <td>NaN</td>\n",
              "      <td>NaN</td>\n",
              "      <td>18.0</td>\n",
              "      <td>d</td>\n",
              "      <td>NaN</td>\n",
              "      <td>Fat and sauces</td>\n",
              "      <td>Dressings and sauces</td>\n",
              "      <td>en:to-be-completed, en:nutrition-facts-complet...</td>\n",
              "      <td>en:to-be-completed,en:nutrition-facts-complete...</td>\n",
              "      <td>To be completed,Nutrition facts completed,Ingr...</td>\n",
              "      <td>NaN</td>\n",
              "      <td>en:mustards</td>\n",
              "      <td>Mustards</td>\n",
              "      <td>https://static.openfoodfacts.org/images/produc...</td>\n",
              "      <td>https://static.openfoodfacts.org/images/produc...</td>\n",
              "      <td>NaN</td>\n",
              "      <td>NaN</td>\n",
              "      <td>NaN</td>\n",
              "      <td>NaN</td>\n",
              "      <td>936.0</td>\n",
              "      <td>NaN</td>\n",
              "      <td>936.0</td>\n",
              "      <td>NaN</td>\n",
              "      <td>8.2</td>\n",
              "      <td>2.20</td>\n",
              "      <td>NaN</td>\n",
              "      <td>NaN</td>\n",
              "      <td>NaN</td>\n",
              "      <td>NaN</td>\n",
              "      <td>NaN</td>\n",
              "      <td>NaN</td>\n",
              "      <td>NaN</td>\n",
              "      <td>NaN</td>\n",
              "      <td>NaN</td>\n",
              "      <td>NaN</td>\n",
              "      <td>NaN</td>\n",
              "      <td>NaN</td>\n",
              "      <td>NaN</td>\n",
              "      <td>NaN</td>\n",
              "      <td>NaN</td>\n",
              "      <td>NaN</td>\n",
              "      <td>NaN</td>\n",
              "      <td>NaN</td>\n",
              "      <td>NaN</td>\n",
              "      <td>NaN</td>\n",
              "      <td>NaN</td>\n",
              "      <td>NaN</td>\n",
              "      <td>NaN</td>\n",
              "      <td>NaN</td>\n",
              "      <td>NaN</td>\n",
              "      <td>NaN</td>\n",
              "      <td>NaN</td>\n",
              "      <td>NaN</td>\n",
              "      <td>NaN</td>\n",
              "      <td>NaN</td>\n",
              "      <td>NaN</td>\n",
              "      <td>NaN</td>\n",
              "      <td>NaN</td>\n",
              "      <td>NaN</td>\n",
              "      <td>29.0</td>\n",
              "      <td>22.0</td>\n",
              "      <td>NaN</td>\n",
              "      <td>NaN</td>\n",
              "      <td>NaN</td>\n",
              "      <td>NaN</td>\n",
              "      <td>NaN</td>\n",
              "      <td>NaN</td>\n",
              "      <td>NaN</td>\n",
              "      <td>NaN</td>\n",
              "      <td>0.0</td>\n",
              "      <td>NaN</td>\n",
              "      <td>NaN</td>\n",
              "      <td>5.1</td>\n",
              "      <td>NaN</td>\n",
              "      <td>NaN</td>\n",
              "      <td>NaN</td>\n",
              "      <td>4.6</td>\n",
              "      <td>1.84</td>\n",
              "      <td>NaN</td>\n",
              "      <td>NaN</td>\n",
              "      <td>NaN</td>\n",
              "      <td>NaN</td>\n",
              "      <td>NaN</td>\n",
              "      <td>NaN</td>\n",
              "      <td>NaN</td>\n",
              "      <td>NaN</td>\n",
              "      <td>NaN</td>\n",
              "      <td>NaN</td>\n",
              "      <td>NaN</td>\n",
              "      <td>NaN</td>\n",
              "      <td>NaN</td>\n",
              "      <td>NaN</td>\n",
              "      <td>NaN</td>\n",
              "      <td>NaN</td>\n",
              "      <td>NaN</td>\n",
              "      <td>NaN</td>\n",
              "      <td>NaN</td>\n",
              "      <td>NaN</td>\n",
              "      <td>NaN</td>\n",
              "      <td>NaN</td>\n",
              "      <td>NaN</td>\n",
              "      <td>NaN</td>\n",
              "      <td>NaN</td>\n",
              "      <td>NaN</td>\n",
              "      <td>NaN</td>\n",
              "      <td>NaN</td>\n",
              "      <td>NaN</td>\n",
              "      <td>NaN</td>\n",
              "      <td>NaN</td>\n",
              "      <td>NaN</td>\n",
              "      <td>NaN</td>\n",
              "      <td>NaN</td>\n",
              "      <td>NaN</td>\n",
              "      <td>NaN</td>\n",
              "      <td>NaN</td>\n",
              "      <td>NaN</td>\n",
              "      <td>NaN</td>\n",
              "      <td>NaN</td>\n",
              "      <td>NaN</td>\n",
              "      <td>NaN</td>\n",
              "      <td>NaN</td>\n",
              "      <td>18.0</td>\n",
              "      <td>NaN</td>\n",
              "      <td>NaN</td>\n",
              "      <td>NaN</td>\n",
              "      <td>NaN</td>\n",
              "      <td>NaN</td>\n",
              "      <td>NaN</td>\n",
              "      <td>NaN</td>\n",
              "      <td>NaN</td>\n",
              "    </tr>\n",
              "    <tr>\n",
              "      <th>4</th>\n",
              "      <td>00000000001111111111</td>\n",
              "      <td>http://world-en.openfoodfacts.org/product/0000...</td>\n",
              "      <td>openfoodfacts-contributors</td>\n",
              "      <td>1560020173</td>\n",
              "      <td>2019-06-08T18:56:13Z</td>\n",
              "      <td>1560020173</td>\n",
              "      <td>2019-06-08T18:56:13Z</td>\n",
              "      <td>Sfiudwx</td>\n",
              "      <td>NaN</td>\n",
              "      <td>dgesc</td>\n",
              "      <td>NaN</td>\n",
              "      <td>NaN</td>\n",
              "      <td>NaN</td>\n",
              "      <td>Watt</td>\n",
              "      <td>watt</td>\n",
              "      <td>Xsf</td>\n",
              "      <td>fr:xsf</td>\n",
              "      <td>fr:xsf</td>\n",
              "      <td>NaN</td>\n",
              "      <td>NaN</td>\n",
              "      <td>NaN</td>\n",
              "      <td>NaN</td>\n",
              "      <td>NaN</td>\n",
              "      <td>NaN</td>\n",
              "      <td>NaN</td>\n",
              "      <td>NaN</td>\n",
              "      <td>NaN</td>\n",
              "      <td>NaN</td>\n",
              "      <td>NaN</td>\n",
              "      <td>NaN</td>\n",
              "      <td>NaN</td>\n",
              "      <td>NaN</td>\n",
              "      <td>NaN</td>\n",
              "      <td>en:France</td>\n",
              "      <td>en:france</td>\n",
              "      <td>France</td>\n",
              "      <td>NaN</td>\n",
              "      <td>NaN</td>\n",
              "      <td>NaN</td>\n",
              "      <td>NaN</td>\n",
              "      <td>NaN</td>\n",
              "      <td>NaN</td>\n",
              "      <td>NaN</td>\n",
              "      <td>NaN</td>\n",
              "      <td>NaN</td>\n",
              "      <td>NaN</td>\n",
              "      <td>NaN</td>\n",
              "      <td>NaN</td>\n",
              "      <td>NaN</td>\n",
              "      <td>NaN</td>\n",
              "      <td>NaN</td>\n",
              "      <td>NaN</td>\n",
              "      <td>NaN</td>\n",
              "      <td>NaN</td>\n",
              "      <td>NaN</td>\n",
              "      <td>NaN</td>\n",
              "      <td>NaN</td>\n",
              "      <td>NaN</td>\n",
              "      <td>unknown</td>\n",
              "      <td>unknown</td>\n",
              "      <td>en:to-be-completed, en:nutrition-facts-to-be-c...</td>\n",
              "      <td>en:to-be-completed,en:nutrition-facts-to-be-co...</td>\n",
              "      <td>To be completed,Nutrition facts to be complete...</td>\n",
              "      <td>NaN</td>\n",
              "      <td>fr:xsf</td>\n",
              "      <td>fr:xsf</td>\n",
              "      <td>NaN</td>\n",
              "      <td>NaN</td>\n",
              "      <td>NaN</td>\n",
              "      <td>NaN</td>\n",
              "      <td>NaN</td>\n",
              "      <td>NaN</td>\n",
              "      <td>NaN</td>\n",
              "      <td>NaN</td>\n",
              "      <td>NaN</td>\n",
              "      <td>NaN</td>\n",
              "      <td>NaN</td>\n",
              "      <td>NaN</td>\n",
              "      <td>NaN</td>\n",
              "      <td>NaN</td>\n",
              "      <td>NaN</td>\n",
              "      <td>NaN</td>\n",
              "      <td>NaN</td>\n",
              "      <td>NaN</td>\n",
              "      <td>NaN</td>\n",
              "      <td>NaN</td>\n",
              "      <td>NaN</td>\n",
              "      <td>NaN</td>\n",
              "      <td>NaN</td>\n",
              "      <td>NaN</td>\n",
              "      <td>NaN</td>\n",
              "      <td>NaN</td>\n",
              "      <td>NaN</td>\n",
              "      <td>NaN</td>\n",
              "      <td>NaN</td>\n",
              "      <td>NaN</td>\n",
              "      <td>NaN</td>\n",
              "      <td>NaN</td>\n",
              "      <td>NaN</td>\n",
              "      <td>NaN</td>\n",
              "      <td>NaN</td>\n",
              "      <td>NaN</td>\n",
              "      <td>NaN</td>\n",
              "      <td>NaN</td>\n",
              "      <td>NaN</td>\n",
              "      <td>NaN</td>\n",
              "      <td>NaN</td>\n",
              "      <td>NaN</td>\n",
              "      <td>NaN</td>\n",
              "      <td>NaN</td>\n",
              "      <td>NaN</td>\n",
              "      <td>NaN</td>\n",
              "      <td>NaN</td>\n",
              "      <td>NaN</td>\n",
              "      <td>NaN</td>\n",
              "      <td>NaN</td>\n",
              "      <td>NaN</td>\n",
              "      <td>NaN</td>\n",
              "      <td>NaN</td>\n",
              "      <td>NaN</td>\n",
              "      <td>NaN</td>\n",
              "      <td>NaN</td>\n",
              "      <td>NaN</td>\n",
              "      <td>NaN</td>\n",
              "      <td>NaN</td>\n",
              "      <td>NaN</td>\n",
              "      <td>NaN</td>\n",
              "      <td>NaN</td>\n",
              "      <td>NaN</td>\n",
              "      <td>NaN</td>\n",
              "      <td>NaN</td>\n",
              "      <td>NaN</td>\n",
              "      <td>NaN</td>\n",
              "      <td>NaN</td>\n",
              "      <td>NaN</td>\n",
              "      <td>NaN</td>\n",
              "      <td>NaN</td>\n",
              "      <td>NaN</td>\n",
              "      <td>NaN</td>\n",
              "      <td>NaN</td>\n",
              "      <td>NaN</td>\n",
              "      <td>NaN</td>\n",
              "      <td>NaN</td>\n",
              "      <td>NaN</td>\n",
              "      <td>NaN</td>\n",
              "      <td>NaN</td>\n",
              "      <td>NaN</td>\n",
              "      <td>NaN</td>\n",
              "      <td>NaN</td>\n",
              "      <td>NaN</td>\n",
              "      <td>NaN</td>\n",
              "      <td>NaN</td>\n",
              "      <td>NaN</td>\n",
              "      <td>NaN</td>\n",
              "      <td>NaN</td>\n",
              "      <td>NaN</td>\n",
              "      <td>NaN</td>\n",
              "      <td>NaN</td>\n",
              "      <td>NaN</td>\n",
              "      <td>NaN</td>\n",
              "      <td>NaN</td>\n",
              "      <td>NaN</td>\n",
              "      <td>NaN</td>\n",
              "      <td>NaN</td>\n",
              "      <td>NaN</td>\n",
              "      <td>NaN</td>\n",
              "      <td>NaN</td>\n",
              "      <td>NaN</td>\n",
              "      <td>NaN</td>\n",
              "      <td>NaN</td>\n",
              "      <td>NaN</td>\n",
              "      <td>NaN</td>\n",
              "      <td>NaN</td>\n",
              "      <td>NaN</td>\n",
              "      <td>NaN</td>\n",
              "      <td>NaN</td>\n",
              "      <td>NaN</td>\n",
              "      <td>NaN</td>\n",
              "      <td>NaN</td>\n",
              "      <td>NaN</td>\n",
              "      <td>NaN</td>\n",
              "      <td>NaN</td>\n",
              "      <td>NaN</td>\n",
              "    </tr>\n",
              "  </tbody>\n",
              "</table>\n",
              "</div>"
            ],
            "text/plain": [
              "                   code                                                url  \\\n",
              "0         0000000000017  http://world-en.openfoodfacts.org/product/0000...   \n",
              "1         0000000000031  http://world-en.openfoodfacts.org/product/0000...   \n",
              "2    000000000003327986  http://world-en.openfoodfacts.org/product/0000...   \n",
              "3         0000000000100  http://world-en.openfoodfacts.org/product/0000...   \n",
              "4  00000000001111111111  http://world-en.openfoodfacts.org/product/0000...   \n",
              "\n",
              "                      creator   created_t      created_datetime  \\\n",
              "0                     kiliweb  1529059080  2018-06-15T10:38:00Z   \n",
              "1                    isagoofy  1539464774  2018-10-13T21:06:14Z   \n",
              "2                     kiliweb  1574175736  2019-11-19T15:02:16Z   \n",
              "3                       del51  1444572561  2015-10-11T14:09:21Z   \n",
              "4  openfoodfacts-contributors  1560020173  2019-06-08T18:56:13Z   \n",
              "\n",
              "   last_modified_t last_modified_datetime                  product_name  \\\n",
              "0       1561463718   2019-06-25T11:55:18Z              Vitória crackers   \n",
              "1       1539464817   2018-10-13T21:06:57Z                         Cacao   \n",
              "2       1574175737   2019-11-19T15:02:17Z     Filetes de pollo empanado   \n",
              "3       1444659212   2015-10-12T14:13:32Z   moutarde au moût de raisin    \n",
              "4       1560020173   2019-06-08T18:56:13Z                       Sfiudwx   \n",
              "\n",
              "  generic_name quantity packaging packaging_tags packaging_text  \\\n",
              "0          NaN      NaN       NaN            NaN            NaN   \n",
              "1          NaN    130 g       NaN            NaN            NaN   \n",
              "2          NaN      NaN       NaN            NaN            NaN   \n",
              "3          NaN     100g       NaN            NaN            NaN   \n",
              "4          NaN    dgesc       NaN            NaN            NaN   \n",
              "\n",
              "          brands    brands_tags                               categories  \\\n",
              "0            NaN            NaN                                      NaN   \n",
              "1            NaN            NaN                                      NaN   \n",
              "2            NaN            NaN                                      NaN   \n",
              "3  courte paille  courte-paille  Epicerie, Condiments, Sauces, Moutardes   \n",
              "4           Watt           watt                                      Xsf   \n",
              "\n",
              "                                    categories_tags  \\\n",
              "0                                               NaN   \n",
              "1                                               NaN   \n",
              "2                                               NaN   \n",
              "3  en:groceries,en:condiments,en:sauces,en:mustards   \n",
              "4                                            fr:xsf   \n",
              "\n",
              "                          categories_en origins origins_tags origins_en  \\\n",
              "0                                   NaN     NaN          NaN        NaN   \n",
              "1                                   NaN     NaN          NaN        NaN   \n",
              "2                                   NaN     NaN          NaN        NaN   \n",
              "3  Groceries,Condiments,Sauces,Mustards     NaN          NaN        NaN   \n",
              "4                                fr:xsf     NaN          NaN        NaN   \n",
              "\n",
              "  manufacturing_places manufacturing_places_tags         labels  \\\n",
              "0                  NaN                       NaN            NaN   \n",
              "1                  NaN                       NaN            NaN   \n",
              "2                  NaN                       NaN            NaN   \n",
              "3                  NaN                       NaN  Delois france   \n",
              "4                  NaN                       NaN            NaN   \n",
              "\n",
              "        labels_tags         labels_en emb_codes emb_codes_tags  \\\n",
              "0               NaN               NaN       NaN            NaN   \n",
              "1               NaN               NaN       NaN            NaN   \n",
              "2               NaN               NaN       NaN            NaN   \n",
              "3  fr:delois-france  fr:delois-france       NaN            NaN   \n",
              "4               NaN               NaN       NaN            NaN   \n",
              "\n",
              "  first_packaging_code_geo  cities cities_tags purchase_places         stores  \\\n",
              "0                      NaN     NaN         NaN             NaN            NaN   \n",
              "1                      NaN     NaN         NaN             NaN            NaN   \n",
              "2                      NaN     NaN         NaN             NaN            NaN   \n",
              "3                      NaN     NaN         NaN             NaN  courte paille   \n",
              "4                      NaN     NaN         NaN             NaN            NaN   \n",
              "\n",
              "   countries countries_tags countries_en  \\\n",
              "0     France      en:france       France   \n",
              "1     France      en:france       France   \n",
              "2      en:es       en:spain        Spain   \n",
              "3     France      en:france       France   \n",
              "4  en:France      en:france       France   \n",
              "\n",
              "                                    ingredients_text   allergens  \\\n",
              "0                                                NaN         NaN   \n",
              "1                                                NaN         NaN   \n",
              "2                                                NaN         NaN   \n",
              "3  eau graines de téguments de moutarde vinaigre ...  en:mustard   \n",
              "4                                                NaN         NaN   \n",
              "\n",
              "   allergens_en traces traces_tags traces_en serving_size  serving_quantity  \\\n",
              "0           NaN    NaN         NaN       NaN          NaN               NaN   \n",
              "1           NaN    NaN         NaN       NaN          NaN               NaN   \n",
              "2           NaN    NaN         NaN       NaN          NaN               NaN   \n",
              "3           NaN    NaN         NaN       NaN          NaN               NaN   \n",
              "4           NaN    NaN         NaN       NaN          NaN               NaN   \n",
              "\n",
              "   no_nutriments  additives_n  additives additives_tags additives_en  \\\n",
              "0            NaN          NaN        NaN            NaN          NaN   \n",
              "1            NaN          NaN        NaN            NaN          NaN   \n",
              "2            NaN          NaN        NaN            NaN          NaN   \n",
              "3            NaN          0.0        NaN            NaN          NaN   \n",
              "4            NaN          NaN        NaN            NaN          NaN   \n",
              "\n",
              "   ingredients_from_palm_oil_n  ingredients_from_palm_oil  \\\n",
              "0                          NaN                        NaN   \n",
              "1                          NaN                        NaN   \n",
              "2                          NaN                        NaN   \n",
              "3                          0.0                        NaN   \n",
              "4                          NaN                        NaN   \n",
              "\n",
              "  ingredients_from_palm_oil_tags  ingredients_that_may_be_from_palm_oil_n  \\\n",
              "0                            NaN                                      NaN   \n",
              "1                            NaN                                      NaN   \n",
              "2                            NaN                                      NaN   \n",
              "3                            NaN                                      0.0   \n",
              "4                            NaN                                      NaN   \n",
              "\n",
              "   ingredients_that_may_be_from_palm_oil  \\\n",
              "0                                    NaN   \n",
              "1                                    NaN   \n",
              "2                                    NaN   \n",
              "3                                    NaN   \n",
              "4                                    NaN   \n",
              "\n",
              "  ingredients_that_may_be_from_palm_oil_tags  nutriscore_score  \\\n",
              "0                                        NaN               NaN   \n",
              "1                                        NaN               NaN   \n",
              "2                                        NaN               NaN   \n",
              "3                                        NaN              18.0   \n",
              "4                                        NaN               NaN   \n",
              "\n",
              "  nutriscore_grade  nova_group   pnns_groups_1         pnns_groups_2  \\\n",
              "0              NaN         NaN         unknown               unknown   \n",
              "1              NaN         NaN         unknown               unknown   \n",
              "2              NaN         NaN         unknown               unknown   \n",
              "3                d         NaN  Fat and sauces  Dressings and sauces   \n",
              "4              NaN         NaN         unknown               unknown   \n",
              "\n",
              "                                              states  \\\n",
              "0  en:to-be-completed, en:nutrition-facts-complet...   \n",
              "1  en:to-be-completed, en:nutrition-facts-to-be-c...   \n",
              "2  en:to-be-completed, en:nutrition-facts-to-be-c...   \n",
              "3  en:to-be-completed, en:nutrition-facts-complet...   \n",
              "4  en:to-be-completed, en:nutrition-facts-to-be-c...   \n",
              "\n",
              "                                         states_tags  \\\n",
              "0  en:to-be-completed,en:nutrition-facts-complete...   \n",
              "1  en:to-be-completed,en:nutrition-facts-to-be-co...   \n",
              "2  en:to-be-completed,en:nutrition-facts-to-be-co...   \n",
              "3  en:to-be-completed,en:nutrition-facts-complete...   \n",
              "4  en:to-be-completed,en:nutrition-facts-to-be-co...   \n",
              "\n",
              "                                           states_en brand_owner  \\\n",
              "0  To be completed,Nutrition facts completed,Ingr...         NaN   \n",
              "1  To be completed,Nutrition facts to be complete...         NaN   \n",
              "2  To be completed,Nutrition facts to be complete...         NaN   \n",
              "3  To be completed,Nutrition facts completed,Ingr...         NaN   \n",
              "4  To be completed,Nutrition facts to be complete...         NaN   \n",
              "\n",
              "  main_category main_category_en  \\\n",
              "0           NaN              NaN   \n",
              "1           NaN              NaN   \n",
              "2           NaN              NaN   \n",
              "3   en:mustards         Mustards   \n",
              "4        fr:xsf           fr:xsf   \n",
              "\n",
              "                                           image_url  \\\n",
              "0  https://static.openfoodfacts.org/images/produc...   \n",
              "1  https://static.openfoodfacts.org/images/produc...   \n",
              "2  https://static.openfoodfacts.org/images/produc...   \n",
              "3  https://static.openfoodfacts.org/images/produc...   \n",
              "4                                                NaN   \n",
              "\n",
              "                                     image_small_url  \\\n",
              "0  https://static.openfoodfacts.org/images/produc...   \n",
              "1  https://static.openfoodfacts.org/images/produc...   \n",
              "2  https://static.openfoodfacts.org/images/produc...   \n",
              "3  https://static.openfoodfacts.org/images/produc...   \n",
              "4                                                NaN   \n",
              "\n",
              "                               image_ingredients_url  \\\n",
              "0  https://static.openfoodfacts.org/images/produc...   \n",
              "1                                                NaN   \n",
              "2                                                NaN   \n",
              "3                                                NaN   \n",
              "4                                                NaN   \n",
              "\n",
              "                         image_ingredients_small_url  \\\n",
              "0  https://static.openfoodfacts.org/images/produc...   \n",
              "1                                                NaN   \n",
              "2                                                NaN   \n",
              "3                                                NaN   \n",
              "4                                                NaN   \n",
              "\n",
              "                                 image_nutrition_url  \\\n",
              "0                                                NaN   \n",
              "1                                                NaN   \n",
              "2  https://static.openfoodfacts.org/images/produc...   \n",
              "3                                                NaN   \n",
              "4                                                NaN   \n",
              "\n",
              "                           image_nutrition_small_url  energy-kj_100g  \\\n",
              "0                                                NaN             NaN   \n",
              "1                                                NaN             NaN   \n",
              "2  https://static.openfoodfacts.org/images/produc...             NaN   \n",
              "3                                                NaN           936.0   \n",
              "4                                                NaN             NaN   \n",
              "\n",
              "   energy-kcal_100g  energy_100g  energy-from-fat_100g  fat_100g  \\\n",
              "0             375.0       1569.0                   NaN       7.0   \n",
              "1               NaN          NaN                   NaN       NaN   \n",
              "2               NaN          NaN                   NaN       NaN   \n",
              "3               NaN        936.0                   NaN       8.2   \n",
              "4               NaN          NaN                   NaN       NaN   \n",
              "\n",
              "   saturated-fat_100g  -butyric-acid_100g  -caproic-acid_100g  \\\n",
              "0                3.08                 NaN                 NaN   \n",
              "1                 NaN                 NaN                 NaN   \n",
              "2                 NaN                 NaN                 NaN   \n",
              "3                2.20                 NaN                 NaN   \n",
              "4                 NaN                 NaN                 NaN   \n",
              "\n",
              "   -caprylic-acid_100g  -capric-acid_100g  -lauric-acid_100g  \\\n",
              "0                  NaN                NaN                NaN   \n",
              "1                  NaN                NaN                NaN   \n",
              "2                  NaN                NaN                NaN   \n",
              "3                  NaN                NaN                NaN   \n",
              "4                  NaN                NaN                NaN   \n",
              "\n",
              "   -myristic-acid_100g  -palmitic-acid_100g  -stearic-acid_100g  \\\n",
              "0                  NaN                  NaN                 NaN   \n",
              "1                  NaN                  NaN                 NaN   \n",
              "2                  NaN                  NaN                 NaN   \n",
              "3                  NaN                  NaN                 NaN   \n",
              "4                  NaN                  NaN                 NaN   \n",
              "\n",
              "   -arachidic-acid_100g  -behenic-acid_100g  -lignoceric-acid_100g  \\\n",
              "0                   NaN                 NaN                    NaN   \n",
              "1                   NaN                 NaN                    NaN   \n",
              "2                   NaN                 NaN                    NaN   \n",
              "3                   NaN                 NaN                    NaN   \n",
              "4                   NaN                 NaN                    NaN   \n",
              "\n",
              "   -cerotic-acid_100g  -montanic-acid_100g  -melissic-acid_100g  \\\n",
              "0                 NaN                  NaN                  NaN   \n",
              "1                 NaN                  NaN                  NaN   \n",
              "2                 NaN                  NaN                  NaN   \n",
              "3                 NaN                  NaN                  NaN   \n",
              "4                 NaN                  NaN                  NaN   \n",
              "\n",
              "   monounsaturated-fat_100g  polyunsaturated-fat_100g  omega-3-fat_100g  \\\n",
              "0                       NaN                       NaN               NaN   \n",
              "1                       NaN                       NaN               NaN   \n",
              "2                       NaN                       NaN               NaN   \n",
              "3                       NaN                       NaN               NaN   \n",
              "4                       NaN                       NaN               NaN   \n",
              "\n",
              "   -alpha-linolenic-acid_100g  -eicosapentaenoic-acid_100g  \\\n",
              "0                         NaN                          NaN   \n",
              "1                         NaN                          NaN   \n",
              "2                         NaN                          NaN   \n",
              "3                         NaN                          NaN   \n",
              "4                         NaN                          NaN   \n",
              "\n",
              "   -docosahexaenoic-acid_100g  omega-6-fat_100g  -linoleic-acid_100g  \\\n",
              "0                         NaN               NaN                  NaN   \n",
              "1                         NaN               NaN                  NaN   \n",
              "2                         NaN               NaN                  NaN   \n",
              "3                         NaN               NaN                  NaN   \n",
              "4                         NaN               NaN                  NaN   \n",
              "\n",
              "   -arachidonic-acid_100g  -gamma-linolenic-acid_100g  \\\n",
              "0                     NaN                         NaN   \n",
              "1                     NaN                         NaN   \n",
              "2                     NaN                         NaN   \n",
              "3                     NaN                         NaN   \n",
              "4                     NaN                         NaN   \n",
              "\n",
              "   -dihomo-gamma-linolenic-acid_100g  omega-9-fat_100g  -oleic-acid_100g  \\\n",
              "0                                NaN               NaN               NaN   \n",
              "1                                NaN               NaN               NaN   \n",
              "2                                NaN               NaN               NaN   \n",
              "3                                NaN               NaN               NaN   \n",
              "4                                NaN               NaN               NaN   \n",
              "\n",
              "   -elaidic-acid_100g  -gondoic-acid_100g  -mead-acid_100g  -erucic-acid_100g  \\\n",
              "0                 NaN                 NaN              NaN                NaN   \n",
              "1                 NaN                 NaN              NaN                NaN   \n",
              "2                 NaN                 NaN              NaN                NaN   \n",
              "3                 NaN                 NaN              NaN                NaN   \n",
              "4                 NaN                 NaN              NaN                NaN   \n",
              "\n",
              "   -nervonic-acid_100g  trans-fat_100g  cholesterol_100g  carbohydrates_100g  \\\n",
              "0                  NaN             NaN               NaN                70.1   \n",
              "1                  NaN             NaN               NaN                 NaN   \n",
              "2                  NaN             NaN               NaN                 NaN   \n",
              "3                  NaN             NaN               NaN                29.0   \n",
              "4                  NaN             NaN               NaN                 NaN   \n",
              "\n",
              "   sugars_100g  -sucrose_100g  -glucose_100g  -fructose_100g  -lactose_100g  \\\n",
              "0         15.0            NaN            NaN             NaN            NaN   \n",
              "1          NaN            NaN            NaN             NaN            NaN   \n",
              "2          NaN            NaN            NaN             NaN            NaN   \n",
              "3         22.0            NaN            NaN             NaN            NaN   \n",
              "4          NaN            NaN            NaN             NaN            NaN   \n",
              "\n",
              "   -maltose_100g  -maltodextrins_100g  starch_100g  polyols_100g  fiber_100g  \\\n",
              "0            NaN                  NaN          NaN           NaN         NaN   \n",
              "1            NaN                  NaN          NaN           NaN         NaN   \n",
              "2            NaN                  NaN          NaN           NaN         NaN   \n",
              "3            NaN                  NaN          NaN           NaN         0.0   \n",
              "4            NaN                  NaN          NaN           NaN         NaN   \n",
              "\n",
              "   -soluble-fiber_100g  -insoluble-fiber_100g  proteins_100g  casein_100g  \\\n",
              "0                  NaN                    NaN            7.8          NaN   \n",
              "1                  NaN                    NaN            NaN          NaN   \n",
              "2                  NaN                    NaN            NaN          NaN   \n",
              "3                  NaN                    NaN            5.1          NaN   \n",
              "4                  NaN                    NaN            NaN          NaN   \n",
              "\n",
              "   serum-proteins_100g  nucleotides_100g  salt_100g  sodium_100g  \\\n",
              "0                  NaN               NaN        1.4         0.56   \n",
              "1                  NaN               NaN        NaN          NaN   \n",
              "2                  NaN               NaN        NaN          NaN   \n",
              "3                  NaN               NaN        4.6         1.84   \n",
              "4                  NaN               NaN        NaN          NaN   \n",
              "\n",
              "   alcohol_100g  vitamin-a_100g  beta-carotene_100g  vitamin-d_100g  \\\n",
              "0           NaN             NaN                 NaN             NaN   \n",
              "1           NaN             NaN                 NaN             NaN   \n",
              "2           NaN             NaN                 NaN             NaN   \n",
              "3           NaN             NaN                 NaN             NaN   \n",
              "4           NaN             NaN                 NaN             NaN   \n",
              "\n",
              "   vitamin-e_100g  vitamin-k_100g  vitamin-c_100g  vitamin-b1_100g  \\\n",
              "0             NaN             NaN             NaN              NaN   \n",
              "1             NaN             NaN             NaN              NaN   \n",
              "2             NaN             NaN             NaN              NaN   \n",
              "3             NaN             NaN             NaN              NaN   \n",
              "4             NaN             NaN             NaN              NaN   \n",
              "\n",
              "   vitamin-b2_100g  vitamin-pp_100g  vitamin-b6_100g  vitamin-b9_100g  \\\n",
              "0              NaN              NaN              NaN              NaN   \n",
              "1              NaN              NaN              NaN              NaN   \n",
              "2              NaN              NaN              NaN              NaN   \n",
              "3              NaN              NaN              NaN              NaN   \n",
              "4              NaN              NaN              NaN              NaN   \n",
              "\n",
              "   folates_100g  vitamin-b12_100g  biotin_100g  pantothenic-acid_100g  \\\n",
              "0           NaN               NaN          NaN                    NaN   \n",
              "1           NaN               NaN          NaN                    NaN   \n",
              "2           NaN               NaN          NaN                    NaN   \n",
              "3           NaN               NaN          NaN                    NaN   \n",
              "4           NaN               NaN          NaN                    NaN   \n",
              "\n",
              "   silica_100g  bicarbonate_100g  potassium_100g  chloride_100g  calcium_100g  \\\n",
              "0          NaN               NaN             NaN            NaN           NaN   \n",
              "1          NaN               NaN             NaN            NaN           NaN   \n",
              "2          NaN               NaN             NaN            NaN           NaN   \n",
              "3          NaN               NaN             NaN            NaN           NaN   \n",
              "4          NaN               NaN             NaN            NaN           NaN   \n",
              "\n",
              "   phosphorus_100g  iron_100g  magnesium_100g  zinc_100g  copper_100g  \\\n",
              "0              NaN        NaN             NaN        NaN          NaN   \n",
              "1              NaN        NaN             NaN        NaN          NaN   \n",
              "2              NaN        NaN             NaN        NaN          NaN   \n",
              "3              NaN        NaN             NaN        NaN          NaN   \n",
              "4              NaN        NaN             NaN        NaN          NaN   \n",
              "\n",
              "   manganese_100g  fluoride_100g  selenium_100g  chromium_100g  \\\n",
              "0             NaN            NaN            NaN            NaN   \n",
              "1             NaN            NaN            NaN            NaN   \n",
              "2             NaN            NaN            NaN            NaN   \n",
              "3             NaN            NaN            NaN            NaN   \n",
              "4             NaN            NaN            NaN            NaN   \n",
              "\n",
              "   molybdenum_100g  iodine_100g  caffeine_100g  taurine_100g  ph_100g  \\\n",
              "0              NaN          NaN            NaN           NaN      NaN   \n",
              "1              NaN          NaN            NaN           NaN      NaN   \n",
              "2              NaN          NaN            NaN           NaN      NaN   \n",
              "3              NaN          NaN            NaN           NaN      NaN   \n",
              "4              NaN          NaN            NaN           NaN      NaN   \n",
              "\n",
              "   fruits-vegetables-nuts_100g  fruits-vegetables-nuts-dried_100g  \\\n",
              "0                          NaN                                NaN   \n",
              "1                          NaN                                NaN   \n",
              "2                          NaN                                NaN   \n",
              "3                          NaN                                NaN   \n",
              "4                          NaN                                NaN   \n",
              "\n",
              "   fruits-vegetables-nuts-estimate_100g  collagen-meat-protein-ratio_100g  \\\n",
              "0                                   NaN                               NaN   \n",
              "1                                   NaN                               NaN   \n",
              "2                                   NaN                               NaN   \n",
              "3                                   NaN                               NaN   \n",
              "4                                   NaN                               NaN   \n",
              "\n",
              "   cocoa_100g  chlorophyl_100g  carbon-footprint_100g  \\\n",
              "0         NaN              NaN                    NaN   \n",
              "1         NaN              NaN                    NaN   \n",
              "2         NaN              NaN                    NaN   \n",
              "3         NaN              NaN                    NaN   \n",
              "4         NaN              NaN                    NaN   \n",
              "\n",
              "   carbon-footprint-from-meat-or-fish_100g  nutrition-score-fr_100g  \\\n",
              "0                                      NaN                      NaN   \n",
              "1                                      NaN                      NaN   \n",
              "2                                      NaN                      NaN   \n",
              "3                                      NaN                     18.0   \n",
              "4                                      NaN                      NaN   \n",
              "\n",
              "   nutrition-score-uk_100g  glycemic-index_100g  water-hardness_100g  \\\n",
              "0                      NaN                  NaN                  NaN   \n",
              "1                      NaN                  NaN                  NaN   \n",
              "2                      NaN                  NaN                  NaN   \n",
              "3                      NaN                  NaN                  NaN   \n",
              "4                      NaN                  NaN                  NaN   \n",
              "\n",
              "   choline_100g  phylloquinone_100g  beta-glucan_100g  inositol_100g  \\\n",
              "0           NaN                 NaN               NaN            NaN   \n",
              "1           NaN                 NaN               NaN            NaN   \n",
              "2           NaN                 NaN               NaN            NaN   \n",
              "3           NaN                 NaN               NaN            NaN   \n",
              "4           NaN                 NaN               NaN            NaN   \n",
              "\n",
              "   carnitine_100g  \n",
              "0             NaN  \n",
              "1             NaN  \n",
              "2             NaN  \n",
              "3             NaN  \n",
              "4             NaN  "
            ]
          },
          "metadata": {
            "tags": []
          },
          "execution_count": 6
        }
      ]
    },
    {
      "cell_type": "code",
      "metadata": {
        "colab": {
          "base_uri": "https://localhost:8080/"
        },
        "id": "9LhboohZCpiG",
        "outputId": "da4d07bc-1886-497d-a6a3-785f7346f08c"
      },
      "source": [
        "print(\"On a un total de {} d'observations et {} variables\".format(data.shape[0],data.shape[1]))"
      ],
      "execution_count": null,
      "outputs": [
        {
          "output_type": "stream",
          "text": [
            "On a un total de 1524579 d'observations et 183 variables\n"
          ],
          "name": "stdout"
        }
      ]
    },
    {
      "cell_type": "markdown",
      "metadata": {
        "id": "ungtiEzHCzHn"
      },
      "source": [
        "Le jeu de données est enorme, d'où le traitement devient compliqué ainsi que la visualisation. Afin d'avoir une idée plus claire, on affiche les colonnes puis on garde dans ```var_pert``` les variables pertinentes pour notre étude.\n",
        "\n",
        "On remarque que notre application sera un recommendateur des marques et produits en fonction de leur Nutri Score, c'est-à-dire, en fonction du logo apposé en face avant des emballages qui informe sur la qualité nutritionnelle."
      ]
    },
    {
      "cell_type": "code",
      "metadata": {
        "id": "_JihyAEoCqel"
      },
      "source": [
        "var_pert = ['product_name', 'brands', 'categories', 'origins', 'manufacturing_places', \n",
        "            \"stores\", \"countries\", 'nutriscore_score', 'nutriscore_grade', \n",
        "            'energy_100g', 'carbohydrates_100g', 'proteins_100g', 'fat_100g']"
      ],
      "execution_count": null,
      "outputs": []
    },
    {
      "cell_type": "markdown",
      "metadata": {
        "id": "NbGUQHNXD2lq"
      },
      "source": [
        "Parmi les variable pertinentes qu'on a choisit, le 8 premières de notre liste sont de variables quantitatives tandis que le reste s'agit de variables qualitatives."
      ]
    },
    {
      "cell_type": "code",
      "metadata": {
        "colab": {
          "base_uri": "https://localhost:8080/"
        },
        "id": "3VUH6rnTSigT",
        "outputId": "a69952e9-361c-4676-8f99-c039faff2bd3"
      },
      "source": [
        "data.columns"
      ],
      "execution_count": null,
      "outputs": [
        {
          "output_type": "execute_result",
          "data": {
            "text/plain": [
              "Index(['code', 'url', 'creator', 'created_t', 'created_datetime',\n",
              "       'last_modified_t', 'last_modified_datetime', 'product_name',\n",
              "       'generic_name', 'quantity',\n",
              "       ...\n",
              "       'carbon-footprint-from-meat-or-fish_100g', 'nutrition-score-fr_100g',\n",
              "       'nutrition-score-uk_100g', 'glycemic-index_100g', 'water-hardness_100g',\n",
              "       'choline_100g', 'phylloquinone_100g', 'beta-glucan_100g',\n",
              "       'inositol_100g', 'carnitine_100g'],\n",
              "      dtype='object', length=183)"
            ]
          },
          "metadata": {
            "tags": []
          },
          "execution_count": 9
        }
      ]
    },
    {
      "cell_type": "code",
      "metadata": {
        "colab": {
          "base_uri": "https://localhost:8080/",
          "height": 326
        },
        "id": "DgDvSvIbDGcn",
        "outputId": "ad1db247-7c6e-42bd-b2bb-e694988abd59"
      },
      "source": [
        "data = data[var_pert]\n",
        "data.head()"
      ],
      "execution_count": null,
      "outputs": [
        {
          "output_type": "execute_result",
          "data": {
            "text/html": [
              "<div>\n",
              "<style scoped>\n",
              "    .dataframe tbody tr th:only-of-type {\n",
              "        vertical-align: middle;\n",
              "    }\n",
              "\n",
              "    .dataframe tbody tr th {\n",
              "        vertical-align: top;\n",
              "    }\n",
              "\n",
              "    .dataframe thead th {\n",
              "        text-align: right;\n",
              "    }\n",
              "</style>\n",
              "<table border=\"1\" class=\"dataframe\">\n",
              "  <thead>\n",
              "    <tr style=\"text-align: right;\">\n",
              "      <th></th>\n",
              "      <th>product_name</th>\n",
              "      <th>brands</th>\n",
              "      <th>categories</th>\n",
              "      <th>origins</th>\n",
              "      <th>manufacturing_places</th>\n",
              "      <th>stores</th>\n",
              "      <th>countries</th>\n",
              "      <th>nutriscore_score</th>\n",
              "      <th>nutriscore_grade</th>\n",
              "      <th>energy_100g</th>\n",
              "      <th>carbohydrates_100g</th>\n",
              "      <th>proteins_100g</th>\n",
              "      <th>fat_100g</th>\n",
              "    </tr>\n",
              "  </thead>\n",
              "  <tbody>\n",
              "    <tr>\n",
              "      <th>0</th>\n",
              "      <td>Vitória crackers</td>\n",
              "      <td>NaN</td>\n",
              "      <td>NaN</td>\n",
              "      <td>NaN</td>\n",
              "      <td>NaN</td>\n",
              "      <td>NaN</td>\n",
              "      <td>France</td>\n",
              "      <td>NaN</td>\n",
              "      <td>NaN</td>\n",
              "      <td>1569.0</td>\n",
              "      <td>70.1</td>\n",
              "      <td>7.8</td>\n",
              "      <td>7.0</td>\n",
              "    </tr>\n",
              "    <tr>\n",
              "      <th>1</th>\n",
              "      <td>Cacao</td>\n",
              "      <td>NaN</td>\n",
              "      <td>NaN</td>\n",
              "      <td>NaN</td>\n",
              "      <td>NaN</td>\n",
              "      <td>NaN</td>\n",
              "      <td>France</td>\n",
              "      <td>NaN</td>\n",
              "      <td>NaN</td>\n",
              "      <td>NaN</td>\n",
              "      <td>NaN</td>\n",
              "      <td>NaN</td>\n",
              "      <td>NaN</td>\n",
              "    </tr>\n",
              "    <tr>\n",
              "      <th>2</th>\n",
              "      <td>Filetes de pollo empanado</td>\n",
              "      <td>NaN</td>\n",
              "      <td>NaN</td>\n",
              "      <td>NaN</td>\n",
              "      <td>NaN</td>\n",
              "      <td>NaN</td>\n",
              "      <td>en:es</td>\n",
              "      <td>NaN</td>\n",
              "      <td>NaN</td>\n",
              "      <td>NaN</td>\n",
              "      <td>NaN</td>\n",
              "      <td>NaN</td>\n",
              "      <td>NaN</td>\n",
              "    </tr>\n",
              "    <tr>\n",
              "      <th>3</th>\n",
              "      <td>moutarde au moût de raisin</td>\n",
              "      <td>courte paille</td>\n",
              "      <td>Epicerie, Condiments, Sauces, Moutardes</td>\n",
              "      <td>NaN</td>\n",
              "      <td>NaN</td>\n",
              "      <td>courte paille</td>\n",
              "      <td>France</td>\n",
              "      <td>18.0</td>\n",
              "      <td>d</td>\n",
              "      <td>936.0</td>\n",
              "      <td>29.0</td>\n",
              "      <td>5.1</td>\n",
              "      <td>8.2</td>\n",
              "    </tr>\n",
              "    <tr>\n",
              "      <th>4</th>\n",
              "      <td>Sfiudwx</td>\n",
              "      <td>Watt</td>\n",
              "      <td>Xsf</td>\n",
              "      <td>NaN</td>\n",
              "      <td>NaN</td>\n",
              "      <td>NaN</td>\n",
              "      <td>en:France</td>\n",
              "      <td>NaN</td>\n",
              "      <td>NaN</td>\n",
              "      <td>NaN</td>\n",
              "      <td>NaN</td>\n",
              "      <td>NaN</td>\n",
              "      <td>NaN</td>\n",
              "    </tr>\n",
              "  </tbody>\n",
              "</table>\n",
              "</div>"
            ],
            "text/plain": [
              "                   product_name         brands  \\\n",
              "0              Vitória crackers            NaN   \n",
              "1                         Cacao            NaN   \n",
              "2     Filetes de pollo empanado            NaN   \n",
              "3   moutarde au moût de raisin   courte paille   \n",
              "4                       Sfiudwx           Watt   \n",
              "\n",
              "                                categories origins manufacturing_places  \\\n",
              "0                                      NaN     NaN                  NaN   \n",
              "1                                      NaN     NaN                  NaN   \n",
              "2                                      NaN     NaN                  NaN   \n",
              "3  Epicerie, Condiments, Sauces, Moutardes     NaN                  NaN   \n",
              "4                                      Xsf     NaN                  NaN   \n",
              "\n",
              "          stores  countries  nutriscore_score nutriscore_grade  energy_100g  \\\n",
              "0            NaN     France               NaN              NaN       1569.0   \n",
              "1            NaN     France               NaN              NaN          NaN   \n",
              "2            NaN      en:es               NaN              NaN          NaN   \n",
              "3  courte paille     France              18.0                d        936.0   \n",
              "4            NaN  en:France               NaN              NaN          NaN   \n",
              "\n",
              "   carbohydrates_100g  proteins_100g  fat_100g  \n",
              "0                70.1            7.8       7.0  \n",
              "1                 NaN            NaN       NaN  \n",
              "2                 NaN            NaN       NaN  \n",
              "3                29.0            5.1       8.2  \n",
              "4                 NaN            NaN       NaN  "
            ]
          },
          "metadata": {
            "tags": []
          },
          "execution_count": 10
        }
      ]
    },
    {
      "cell_type": "code",
      "metadata": {
        "colab": {
          "base_uri": "https://localhost:8080/"
        },
        "id": "AsAEVmxFEnUw",
        "outputId": "cf3ccef7-3047-4716-e464-146d4c8f4bea"
      },
      "source": [
        "print(\"On a ainsi un total de {} de lignes et {} colonnes\".format(data.shape[0],data.shape[1]))"
      ],
      "execution_count": null,
      "outputs": [
        {
          "output_type": "stream",
          "text": [
            "On a ainsi un total de 1524579 de lignes et 13 colonnes\n"
          ],
          "name": "stdout"
        }
      ]
    },
    {
      "cell_type": "markdown",
      "metadata": {
        "id": "9jLLRCY9GbPZ"
      },
      "source": [
        "# Visualisation et traitement des valeurs manquantes"
      ]
    },
    {
      "cell_type": "markdown",
      "metadata": {
        "id": "vZgZ9MXoG3sa"
      },
      "source": [
        "## Valeurs manquantes"
      ]
    },
    {
      "cell_type": "markdown",
      "metadata": {
        "id": "ZCOfX42aG7VN"
      },
      "source": [
        "On commence par afficher le pourcentage des valeurs manquantes par colonnes."
      ]
    },
    {
      "cell_type": "code",
      "metadata": {
        "colab": {
          "base_uri": "https://localhost:8080/"
        },
        "id": "GF1z6xNdGfXl",
        "outputId": "42d5ac38-754a-4340-e844-f913e9a8b17b"
      },
      "source": [
        "(data.isna().sum()/data.shape[0]).sort_values()"
      ],
      "execution_count": null,
      "outputs": [
        {
          "output_type": "execute_result",
          "data": {
            "text/plain": [
              "countries               0.003356\n",
              "product_name            0.048995\n",
              "energy_100g             0.199519\n",
              "proteins_100g           0.205042\n",
              "fat_100g                0.205749\n",
              "carbohydrates_100g      0.206128\n",
              "brands                  0.444342\n",
              "categories              0.488715\n",
              "nutriscore_score        0.599965\n",
              "nutriscore_grade        0.599965\n",
              "stores                  0.862085\n",
              "manufacturing_places    0.932439\n",
              "origins                 0.957243\n",
              "dtype: float64"
            ]
          },
          "metadata": {
            "tags": []
          },
          "execution_count": 12
        }
      ]
    },
    {
      "cell_type": "markdown",
      "metadata": {
        "id": "l9tjI1P6H7u8"
      },
      "source": [
        "La matrice de valeurs manquantes nous laisse visualiser qu'en effet, les colonnes 'origins', 'manifacturing_places' et 'stores' ont les pourcentage le plus élévé de valeurs non attribuées."
      ]
    },
    {
      "cell_type": "code",
      "metadata": {
        "colab": {
          "base_uri": "https://localhost:8080/",
          "height": 468
        },
        "id": "1is4q2DlHXcP",
        "outputId": "68912110-f063-42c6-da6a-f9010e8a1d4f"
      },
      "source": [
        "msno.matrix(data)\n",
        "plt.title('Matrice de nullité')\n",
        "plt.show()"
      ],
      "execution_count": null,
      "outputs": [
        {
          "output_type": "display_data",
          "data": {
            "image/png": "[encoded data removed]",
            "text/plain": [
              "<Figure size 1800x720 with 2 Axes>"
            ]
          },
          "metadata": {
            "tags": []
          }
        }
      ]
    },
    {
      "cell_type": "markdown",
      "metadata": {
        "id": "PsrjDUsSI_Lp"
      },
      "source": [
        "On peut aussi visualiser la nullité par colonne."
      ]
    },
    {
      "cell_type": "code",
      "metadata": {
        "colab": {
          "base_uri": "https://localhost:8080/",
          "height": 520
        },
        "id": "XkHHmd8nI-ku",
        "outputId": "36febd99-bfac-4725-fcd1-c567f873afe6"
      },
      "source": [
        "msno.bar(data)\n",
        "plt.title('Nullité par colonne')\n",
        "plt.show()"
      ],
      "execution_count": null,
      "outputs": [
        {
          "output_type": "display_data",
          "data": {
            "image/png": "[encoded data removed]",
            "text/plain": [
              "<Figure size 1728x720 with 3 Axes>"
            ]
          },
          "metadata": {
            "tags": []
          }
        }
      ]
    },
    {
      "cell_type": "markdown",
      "metadata": {
        "id": "H7S2qz53TL8t"
      },
      "source": [
        "En effet, il est toujours mieux de trier la graphique précédente."
      ]
    },
    {
      "cell_type": "code",
      "metadata": {
        "colab": {
          "base_uri": "https://localhost:8080/",
          "height": 523
        },
        "id": "Ew9wuGkfTNF1",
        "outputId": "a6107963-dee5-4cfa-f5ce-a0e0ae6734a9"
      },
      "source": [
        "msno.bar(data, color = 'royalblue', sort=\"ascending\")\n",
        "plt.title('Nullité par colonne')\n",
        "plt.show()"
      ],
      "execution_count": null,
      "outputs": [
        {
          "output_type": "display_data",
          "data": {
            "image/png": "[encoded data removed]",
            "text/plain": [
              "<Figure size 1728x720 with 3 Axes>"
            ]
          },
          "metadata": {
            "tags": []
          }
        }
      ]
    },
    {
      "cell_type": "markdown",
      "metadata": {
        "id": "5s_K_OQ7JooB"
      },
      "source": [
        "Le *heatmap* suivant nous montre la correlation au niveau de valeurs manquantes entre deux variables.\n",
        "\n",
        "* Une valeur proche de -1 signifie que si une variable est présente alors il est très probable que l'autre ne le soit pas. \n",
        "* Une valeurs proche à 0 signifie qu'il n'y pas de dépence entre le présence ou non d'une variable par rapport à l'autre.\n",
        "* Une valuer 1 signifie que si une variable est présente alors il est très probale que l'autre le soit aussi."
      ]
    },
    {
      "cell_type": "code",
      "metadata": {
        "colab": {
          "base_uri": "https://localhost:8080/",
          "height": 657
        },
        "id": "kwB5EIViLKMV",
        "outputId": "67021a0f-c2d9-4a54-9cbf-ca378258828b"
      },
      "source": [
        "msno.heatmap(data)\n",
        "plt.title('Correlation de nullité')\n",
        "plt.show()"
      ],
      "execution_count": null,
      "outputs": [
        {
          "output_type": "display_data",
          "data": {
            "image/png": "[encoded data removed]",
            "text/plain": [
              "<Figure size 1440x864 with 2 Axes>"
            ]
          },
          "metadata": {
            "tags": []
          }
        }
      ]
    },
    {
      "cell_type": "markdown",
      "metadata": {
        "id": "82mgLnU8LYFD"
      },
      "source": [
        "Nous savons que les **hydrates de carbone apportent 90 % au poids net d'un diète et le 100% de son énergie**. Par conséquent, nous attendons une relation entre ce groupe et la variable 'energy_100g'."
      ]
    },
    {
      "cell_type": "code",
      "metadata": {
        "colab": {
          "base_uri": "https://localhost:8080/",
          "height": 466
        },
        "id": "YofxkVUZMQF7",
        "outputId": "a326f3e1-f3bb-46c6-83a2-d392886c33cf"
      },
      "source": [
        "msno.dendrogram(data)\n",
        "plt.title('Dendrogramme')\n",
        "plt.show()"
      ],
      "execution_count": null,
      "outputs": [
        {
          "output_type": "display_data",
          "data": {
            "image/png": "[encoded data removed]",
            "text/plain": [
              "<Figure size 1800x720 with 1 Axes>"
            ]
          },
          "metadata": {
            "tags": []
          }
        }
      ]
    },
    {
      "cell_type": "markdown",
      "metadata": {
        "id": "5qhO8enfMcdR"
      },
      "source": [
        "## Doublons"
      ]
    },
    {
      "cell_type": "code",
      "metadata": {
        "colab": {
          "base_uri": "https://localhost:8080/"
        },
        "id": "a84CwnkBMeN1",
        "outputId": "06114550-b91b-4de9-9581-13a08067e239"
      },
      "source": [
        "print(\"Le numéro de doubles présents est {}\".format(data.duplicated().sum()))"
      ],
      "execution_count": null,
      "outputs": [
        {
          "output_type": "stream",
          "text": [
            "Le numéro de doubles présents est 116106\n"
          ],
          "name": "stdout"
        }
      ]
    },
    {
      "cell_type": "markdown",
      "metadata": {
        "id": "869nqjAjNFId"
      },
      "source": [
        "Nous suprrimons tous les doublons."
      ]
    },
    {
      "cell_type": "code",
      "metadata": {
        "id": "2Dk-lS5cM4Md"
      },
      "source": [
        "data.drop_duplicates(inplace=True)"
      ],
      "execution_count": null,
      "outputs": []
    },
    {
      "cell_type": "code",
      "metadata": {
        "colab": {
          "base_uri": "https://localhost:8080/"
        },
        "id": "fhduSi9uNN5l",
        "outputId": "05c08ebf-b19c-4001-fbfb-ac025e4dbe7c"
      },
      "source": [
        "print(\"On a ainsi {} lignes et {} variables\".format(data.shape[0],data.shape[1]))"
      ],
      "execution_count": null,
      "outputs": [
        {
          "output_type": "stream",
          "text": [
            "On a ainsi 1408473 lignes et 13 variables\n"
          ],
          "name": "stdout"
        }
      ]
    },
    {
      "cell_type": "markdown",
      "metadata": {
        "id": "DzH564aNE5e0"
      },
      "source": [
        "# Marques et produits vendus en France"
      ]
    },
    {
      "cell_type": "markdown",
      "metadata": {
        "id": "eCVDUs2vPFpG"
      },
      "source": [
        "Notre projet a besoin de valueurs des marques, lieus de ventes et le nutrition score. En plus, on se restrend au produit vendus en France, d'où on va éliminer les lignes dont on ne connaît pas l'information pertinente."
      ]
    },
    {
      "cell_type": "code",
      "metadata": {
        "id": "m3ryo8RTPxLy"
      },
      "source": [
        "data['product_name'].fillna(value='sans nom', inplace=True)\n",
        "data['categories'].fillna(value='sans categories', inplace=True)\n",
        "data['origins'].fillna(value='sans origine', inplace=True)\n",
        "data['manufacturing_places'].fillna(value='non connu', inplace=True)"
      ],
      "execution_count": null,
      "outputs": []
    },
    {
      "cell_type": "markdown",
      "metadata": {
        "id": "A_5rqFilFTRz"
      },
      "source": [
        "Notre projet a besoin des noms des marques, lieus de ventes et le nutrition score. En plus, on s'intéresse uniquement aux produits vendus en France. On garde alors que les lignes contenant cette information."
      ]
    },
    {
      "cell_type": "code",
      "metadata": {
        "id": "KOxGG4jnFBZc"
      },
      "source": [
        "data = data.drop(data[(data.countries != 'France') & (data.countries != 'en:France')].index)\n",
        "data = data.drop(data[data.brands.isnull() == True].index)\n",
        "data = data.drop(data[data.stores.isnull() == True].index)\n",
        "data = data.drop(data[data.nutriscore_grade.isnull() == True].index)\n",
        "data = data.drop(data[data.nutriscore_score.isnull() == True].index)"
      ],
      "execution_count": null,
      "outputs": []
    },
    {
      "cell_type": "code",
      "metadata": {
        "colab": {
          "base_uri": "https://localhost:8080/"
        },
        "id": "B8Z6JwJjP1BY",
        "outputId": "bbebf37d-aa7a-4d99-b875-b24b29e7c8a6"
      },
      "source": [
        "data.isnull().sum()"
      ],
      "execution_count": null,
      "outputs": [
        {
          "output_type": "execute_result",
          "data": {
            "text/plain": [
              "product_name              0\n",
              "brands                    0\n",
              "categories                0\n",
              "origins                   0\n",
              "manufacturing_places      0\n",
              "stores                    0\n",
              "countries                 0\n",
              "nutriscore_score          0\n",
              "nutriscore_grade          0\n",
              "energy_100g             152\n",
              "carbohydrates_100g      195\n",
              "proteins_100g           149\n",
              "fat_100g                152\n",
              "dtype: int64"
            ]
          },
          "metadata": {
            "tags": []
          },
          "execution_count": 24
        }
      ]
    },
    {
      "cell_type": "markdown",
      "metadata": {
        "id": "lr46N9VLTHb4"
      },
      "source": [
        "# Outliers"
      ]
    },
    {
      "cell_type": "markdown",
      "metadata": {
        "id": "7DI79andWiBY"
      },
      "source": [
        "Identifions les outliers des variables qualitatives."
      ]
    },
    {
      "cell_type": "code",
      "metadata": {
        "colab": {
          "base_uri": "https://localhost:8080/",
          "height": 297
        },
        "id": "AkCFhBy1TKvl",
        "outputId": "c887aed0-1769-4db2-b3b4-ba627ba4b299"
      },
      "source": [
        "data.describe()"
      ],
      "execution_count": null,
      "outputs": [
        {
          "output_type": "execute_result",
          "data": {
            "text/html": [
              "<div>\n",
              "<style scoped>\n",
              "    .dataframe tbody tr th:only-of-type {\n",
              "        vertical-align: middle;\n",
              "    }\n",
              "\n",
              "    .dataframe tbody tr th {\n",
              "        vertical-align: top;\n",
              "    }\n",
              "\n",
              "    .dataframe thead th {\n",
              "        text-align: right;\n",
              "    }\n",
              "</style>\n",
              "<table border=\"1\" class=\"dataframe\">\n",
              "  <thead>\n",
              "    <tr style=\"text-align: right;\">\n",
              "      <th></th>\n",
              "      <th>nutriscore_score</th>\n",
              "      <th>energy_100g</th>\n",
              "      <th>carbohydrates_100g</th>\n",
              "      <th>proteins_100g</th>\n",
              "      <th>fat_100g</th>\n",
              "    </tr>\n",
              "  </thead>\n",
              "  <tbody>\n",
              "    <tr>\n",
              "      <th>count</th>\n",
              "      <td>73751.000000</td>\n",
              "      <td>73599.000000</td>\n",
              "      <td>73556.000000</td>\n",
              "      <td>73602.000000</td>\n",
              "      <td>73599.000000</td>\n",
              "    </tr>\n",
              "    <tr>\n",
              "      <th>mean</th>\n",
              "      <td>8.113382</td>\n",
              "      <td>1072.069488</td>\n",
              "      <td>24.262236</td>\n",
              "      <td>8.289230</td>\n",
              "      <td>13.527939</td>\n",
              "    </tr>\n",
              "    <tr>\n",
              "      <th>std</th>\n",
              "      <td>8.938960</td>\n",
              "      <td>756.424544</td>\n",
              "      <td>25.740481</td>\n",
              "      <td>7.821557</td>\n",
              "      <td>16.616448</td>\n",
              "    </tr>\n",
              "    <tr>\n",
              "      <th>min</th>\n",
              "      <td>-15.000000</td>\n",
              "      <td>0.000000</td>\n",
              "      <td>0.000000</td>\n",
              "      <td>0.000000</td>\n",
              "      <td>0.000000</td>\n",
              "    </tr>\n",
              "    <tr>\n",
              "      <th>25%</th>\n",
              "      <td>1.000000</td>\n",
              "      <td>445.000000</td>\n",
              "      <td>3.000000</td>\n",
              "      <td>2.300000</td>\n",
              "      <td>1.600000</td>\n",
              "    </tr>\n",
              "    <tr>\n",
              "      <th>50%</th>\n",
              "      <td>7.000000</td>\n",
              "      <td>971.000000</td>\n",
              "      <td>12.600000</td>\n",
              "      <td>6.200000</td>\n",
              "      <td>7.600000</td>\n",
              "    </tr>\n",
              "    <tr>\n",
              "      <th>75%</th>\n",
              "      <td>15.000000</td>\n",
              "      <td>1572.000000</td>\n",
              "      <td>46.200000</td>\n",
              "      <td>12.000000</td>\n",
              "      <td>21.000000</td>\n",
              "    </tr>\n",
              "    <tr>\n",
              "      <th>max</th>\n",
              "      <td>36.000000</td>\n",
              "      <td>19305.000000</td>\n",
              "      <td>151.000000</td>\n",
              "      <td>100.000000</td>\n",
              "      <td>100.000000</td>\n",
              "    </tr>\n",
              "  </tbody>\n",
              "</table>\n",
              "</div>"
            ],
            "text/plain": [
              "       nutriscore_score   energy_100g  carbohydrates_100g  proteins_100g  \\\n",
              "count      73751.000000  73599.000000        73556.000000   73602.000000   \n",
              "mean           8.113382   1072.069488           24.262236       8.289230   \n",
              "std            8.938960    756.424544           25.740481       7.821557   \n",
              "min          -15.000000      0.000000            0.000000       0.000000   \n",
              "25%            1.000000    445.000000            3.000000       2.300000   \n",
              "50%            7.000000    971.000000           12.600000       6.200000   \n",
              "75%           15.000000   1572.000000           46.200000      12.000000   \n",
              "max           36.000000  19305.000000          151.000000     100.000000   \n",
              "\n",
              "           fat_100g  \n",
              "count  73599.000000  \n",
              "mean      13.527939  \n",
              "std       16.616448  \n",
              "min        0.000000  \n",
              "25%        1.600000  \n",
              "50%        7.600000  \n",
              "75%       21.000000  \n",
              "max      100.000000  "
            ]
          },
          "metadata": {
            "tags": []
          },
          "execution_count": 25
        }
      ]
    },
    {
      "cell_type": "markdown",
      "metadata": {
        "id": "EfH_pMbmXBLs"
      },
      "source": [
        "Une inspection rapide de ```mean```, ```max```, et ```min``` dans le tableau précédent nous permet affirmer qu'il y a plusierus valeurs ou bien aberrantes ou bien atypiques. En effet, une visualisation peut nous aider."
      ]
    },
    {
      "cell_type": "code",
      "metadata": {
        "colab": {
          "base_uri": "https://localhost:8080/",
          "height": 438
        },
        "id": "80efUYZzW8Qo",
        "outputId": "a0bfb058-e075-4fab-d861-dde621d8bde4"
      },
      "source": [
        "data.select_dtypes(include=float).plot(kind='box', subplots=True, title=\"Avant élimination d'outliers\", figsize=(20,20), layout=(6,4))\n",
        "\n",
        "plt.show()"
      ],
      "execution_count": null,
      "outputs": [
        {
          "output_type": "display_data",
          "data": {
            "image/png": "[encoded data removed]",
            "text/plain": [
              "<Figure size 1440x1440 with 24 Axes>"
            ]
          },
          "metadata": {
            "tags": []
          }
        }
      ]
    },
    {
      "cell_type": "markdown",
      "metadata": {
        "id": "FcxaAMWRYdCF"
      },
      "source": [
        "Nous supprimons les valeurs aberrantes par définition."
      ]
    },
    {
      "cell_type": "code",
      "metadata": {
        "id": "gQwKyL_rYGBI"
      },
      "source": [
        "data = data.drop(data[data.energy_100g <= 100].index)\n",
        "data = data[(data['fat_100g'] + data['carbohydrates_100g'] + data['proteins_100g'])<=100]"
      ],
      "execution_count": null,
      "outputs": []
    },
    {
      "cell_type": "code",
      "metadata": {
        "colab": {
          "base_uri": "https://localhost:8080/"
        },
        "id": "YfTLs6VZYmul",
        "outputId": "f27c9880-95e2-49ae-99a3-2b5da9b0836b"
      },
      "source": [
        "print(\"On a maintenant {} observations et {} variables\".format(data.shape[0],data.shape[1]))"
      ],
      "execution_count": null,
      "outputs": [
        {
          "output_type": "stream",
          "text": [
            "On a maintenant 70877 observations et 13 variables\n"
          ],
          "name": "stdout"
        }
      ]
    },
    {
      "cell_type": "markdown",
      "metadata": {
        "id": "WzCyYaH0Y8HQ"
      },
      "source": [
        "Avec cette procédure, on n'a presque plus de valeurs manquantes dans notre échantillon."
      ]
    },
    {
      "cell_type": "code",
      "metadata": {
        "colab": {
          "base_uri": "https://localhost:8080/"
        },
        "id": "fdMbnGFpYuCy",
        "outputId": "9f1236bc-19e5-405f-9c7d-bbf90757c990"
      },
      "source": [
        "data.isnull().sum()"
      ],
      "execution_count": null,
      "outputs": [
        {
          "output_type": "execute_result",
          "data": {
            "text/plain": [
              "product_name            0\n",
              "brands                  0\n",
              "categories              0\n",
              "origins                 0\n",
              "manufacturing_places    0\n",
              "stores                  0\n",
              "countries               0\n",
              "nutriscore_score        0\n",
              "nutriscore_grade        0\n",
              "energy_100g             4\n",
              "carbohydrates_100g      0\n",
              "proteins_100g           0\n",
              "fat_100g                0\n",
              "dtype: int64"
            ]
          },
          "metadata": {
            "tags": []
          },
          "execution_count": 29
        }
      ]
    },
    {
      "cell_type": "markdown",
      "metadata": {
        "id": "tKdT51SjYyu5"
      },
      "source": [
        "Et une description plus appropiée est ainsi obtenue."
      ]
    },
    {
      "cell_type": "code",
      "metadata": {
        "colab": {
          "base_uri": "https://localhost:8080/",
          "height": 297
        },
        "id": "fDgGHr0gZexS",
        "outputId": "a52ba533-e19b-45d8-801d-62f92f5e6584"
      },
      "source": [
        "data.describe()"
      ],
      "execution_count": null,
      "outputs": [
        {
          "output_type": "execute_result",
          "data": {
            "text/html": [
              "<div>\n",
              "<style scoped>\n",
              "    .dataframe tbody tr th:only-of-type {\n",
              "        vertical-align: middle;\n",
              "    }\n",
              "\n",
              "    .dataframe tbody tr th {\n",
              "        vertical-align: top;\n",
              "    }\n",
              "\n",
              "    .dataframe thead th {\n",
              "        text-align: right;\n",
              "    }\n",
              "</style>\n",
              "<table border=\"1\" class=\"dataframe\">\n",
              "  <thead>\n",
              "    <tr style=\"text-align: right;\">\n",
              "      <th></th>\n",
              "      <th>nutriscore_score</th>\n",
              "      <th>energy_100g</th>\n",
              "      <th>carbohydrates_100g</th>\n",
              "      <th>proteins_100g</th>\n",
              "      <th>fat_100g</th>\n",
              "    </tr>\n",
              "  </thead>\n",
              "  <tbody>\n",
              "    <tr>\n",
              "      <th>count</th>\n",
              "      <td>70877.000000</td>\n",
              "      <td>70873.000000</td>\n",
              "      <td>70877.000000</td>\n",
              "      <td>70877.000000</td>\n",
              "      <td>70877.000000</td>\n",
              "    </tr>\n",
              "    <tr>\n",
              "      <th>mean</th>\n",
              "      <td>8.433907</td>\n",
              "      <td>1107.177271</td>\n",
              "      <td>25.026172</td>\n",
              "      <td>8.546714</td>\n",
              "      <td>13.932325</td>\n",
              "    </tr>\n",
              "    <tr>\n",
              "      <th>std</th>\n",
              "      <td>8.905520</td>\n",
              "      <td>741.229733</td>\n",
              "      <td>25.790265</td>\n",
              "      <td>7.804777</td>\n",
              "      <td>16.574727</td>\n",
              "    </tr>\n",
              "    <tr>\n",
              "      <th>min</th>\n",
              "      <td>-15.000000</td>\n",
              "      <td>101.000000</td>\n",
              "      <td>0.000000</td>\n",
              "      <td>0.000000</td>\n",
              "      <td>0.000000</td>\n",
              "    </tr>\n",
              "    <tr>\n",
              "      <th>25%</th>\n",
              "      <td>1.000000</td>\n",
              "      <td>481.000000</td>\n",
              "      <td>3.400000</td>\n",
              "      <td>2.800000</td>\n",
              "      <td>1.900000</td>\n",
              "    </tr>\n",
              "    <tr>\n",
              "      <th>50%</th>\n",
              "      <td>8.000000</td>\n",
              "      <td>1005.000000</td>\n",
              "      <td>13.300000</td>\n",
              "      <td>6.400000</td>\n",
              "      <td>8.100000</td>\n",
              "    </tr>\n",
              "    <tr>\n",
              "      <th>75%</th>\n",
              "      <td>15.000000</td>\n",
              "      <td>1594.000000</td>\n",
              "      <td>48.000000</td>\n",
              "      <td>12.000000</td>\n",
              "      <td>21.700000</td>\n",
              "    </tr>\n",
              "    <tr>\n",
              "      <th>max</th>\n",
              "      <td>36.000000</td>\n",
              "      <td>19305.000000</td>\n",
              "      <td>100.000000</td>\n",
              "      <td>92.000000</td>\n",
              "      <td>100.000000</td>\n",
              "    </tr>\n",
              "  </tbody>\n",
              "</table>\n",
              "</div>"
            ],
            "text/plain": [
              "       nutriscore_score   energy_100g  carbohydrates_100g  proteins_100g  \\\n",
              "count      70877.000000  70873.000000        70877.000000   70877.000000   \n",
              "mean           8.433907   1107.177271           25.026172       8.546714   \n",
              "std            8.905520    741.229733           25.790265       7.804777   \n",
              "min          -15.000000    101.000000            0.000000       0.000000   \n",
              "25%            1.000000    481.000000            3.400000       2.800000   \n",
              "50%            8.000000   1005.000000           13.300000       6.400000   \n",
              "75%           15.000000   1594.000000           48.000000      12.000000   \n",
              "max           36.000000  19305.000000          100.000000      92.000000   \n",
              "\n",
              "           fat_100g  \n",
              "count  70877.000000  \n",
              "mean      13.932325  \n",
              "std       16.574727  \n",
              "min        0.000000  \n",
              "25%        1.900000  \n",
              "50%        8.100000  \n",
              "75%       21.700000  \n",
              "max      100.000000  "
            ]
          },
          "metadata": {
            "tags": []
          },
          "execution_count": 30
        }
      ]
    },
    {
      "cell_type": "code",
      "metadata": {
        "colab": {
          "base_uri": "https://localhost:8080/",
          "height": 438
        },
        "id": "JNLqeAPyZhdf",
        "outputId": "e522f2da-682f-47ca-d913-6e3ec7ff7a13"
      },
      "source": [
        "data.select_dtypes(include=float).plot(kind='box', subplots=True, title=\"Première élimination d'outliers\", figsize=(20,20), layout=(6,4))\n",
        "\n",
        "plt.show()"
      ],
      "execution_count": null,
      "outputs": [
        {
          "output_type": "display_data",
          "data": {
            "image/png": "[encoded data removed]",
            "text/plain": [
              "<Figure size 1440x1440 with 24 Axes>"
            ]
          },
          "metadata": {
            "tags": []
          }
        }
      ]
    },
    {
      "cell_type": "markdown",
      "metadata": {
        "id": "msO6mmfmUVCJ"
      },
      "source": [
        "Et finalement on fait une dernière élimination."
      ]
    },
    {
      "cell_type": "code",
      "metadata": {
        "id": "rAaMWKsAZrbR"
      },
      "source": [
        "data = data[np.abs(data['energy_100g']-data['energy_100g'].mean())<=(3*data['energy_100g'].std())]\n",
        "data = data[np.abs(data['fat_100g']-data['fat_100g'].mean())<=(3*data['fat_100g'].std())]\n",
        "data = data[np.abs(data['carbohydrates_100g']-data['carbohydrates_100g'].mean())<=(3*data['carbohydrates_100g'].std())]\n",
        "data = data[np.abs(data['proteins_100g']-data['proteins_100g'].mean())<=(3*data['proteins_100g'].std())]"
      ],
      "execution_count": null,
      "outputs": []
    },
    {
      "cell_type": "code",
      "metadata": {
        "colab": {
          "base_uri": "https://localhost:8080/",
          "height": 297
        },
        "id": "Mn3sULcMa-fb",
        "outputId": "772b25c4-43d6-4b2f-831a-f3796bfc7cb8"
      },
      "source": [
        "data.describe()"
      ],
      "execution_count": null,
      "outputs": [
        {
          "output_type": "execute_result",
          "data": {
            "text/html": [
              "<div>\n",
              "<style scoped>\n",
              "    .dataframe tbody tr th:only-of-type {\n",
              "        vertical-align: middle;\n",
              "    }\n",
              "\n",
              "    .dataframe tbody tr th {\n",
              "        vertical-align: top;\n",
              "    }\n",
              "\n",
              "    .dataframe thead th {\n",
              "        text-align: right;\n",
              "    }\n",
              "</style>\n",
              "<table border=\"1\" class=\"dataframe\">\n",
              "  <thead>\n",
              "    <tr style=\"text-align: right;\">\n",
              "      <th></th>\n",
              "      <th>nutriscore_score</th>\n",
              "      <th>energy_100g</th>\n",
              "      <th>carbohydrates_100g</th>\n",
              "      <th>proteins_100g</th>\n",
              "      <th>fat_100g</th>\n",
              "    </tr>\n",
              "  </thead>\n",
              "  <tbody>\n",
              "    <tr>\n",
              "      <th>count</th>\n",
              "      <td>68523.000000</td>\n",
              "      <td>68523.000000</td>\n",
              "      <td>68523.000000</td>\n",
              "      <td>68523.000000</td>\n",
              "      <td>68523.000000</td>\n",
              "    </tr>\n",
              "    <tr>\n",
              "      <th>mean</th>\n",
              "      <td>8.235935</td>\n",
              "      <td>1049.102022</td>\n",
              "      <td>25.773405</td>\n",
              "      <td>8.501066</td>\n",
              "      <td>12.123671</td>\n",
              "    </tr>\n",
              "    <tr>\n",
              "      <th>std</th>\n",
              "      <td>8.877236</td>\n",
              "      <td>658.855756</td>\n",
              "      <td>25.864724</td>\n",
              "      <td>7.329734</td>\n",
              "      <td>12.470138</td>\n",
              "    </tr>\n",
              "    <tr>\n",
              "      <th>min</th>\n",
              "      <td>-15.000000</td>\n",
              "      <td>101.000000</td>\n",
              "      <td>0.000000</td>\n",
              "      <td>0.000000</td>\n",
              "      <td>0.000000</td>\n",
              "    </tr>\n",
              "    <tr>\n",
              "      <th>25%</th>\n",
              "      <td>1.000000</td>\n",
              "      <td>472.000000</td>\n",
              "      <td>4.000000</td>\n",
              "      <td>3.000000</td>\n",
              "      <td>1.800000</td>\n",
              "    </tr>\n",
              "    <tr>\n",
              "      <th>50%</th>\n",
              "      <td>8.000000</td>\n",
              "      <td>977.000000</td>\n",
              "      <td>14.000000</td>\n",
              "      <td>6.500000</td>\n",
              "      <td>7.700000</td>\n",
              "    </tr>\n",
              "    <tr>\n",
              "      <th>75%</th>\n",
              "      <td>15.000000</td>\n",
              "      <td>1544.000000</td>\n",
              "      <td>49.000000</td>\n",
              "      <td>12.000000</td>\n",
              "      <td>20.000000</td>\n",
              "    </tr>\n",
              "    <tr>\n",
              "      <th>max</th>\n",
              "      <td>36.000000</td>\n",
              "      <td>3326.000000</td>\n",
              "      <td>100.000000</td>\n",
              "      <td>32.100000</td>\n",
              "      <td>57.400000</td>\n",
              "    </tr>\n",
              "  </tbody>\n",
              "</table>\n",
              "</div>"
            ],
            "text/plain": [
              "       nutriscore_score   energy_100g  carbohydrates_100g  proteins_100g  \\\n",
              "count      68523.000000  68523.000000        68523.000000   68523.000000   \n",
              "mean           8.235935   1049.102022           25.773405       8.501066   \n",
              "std            8.877236    658.855756           25.864724       7.329734   \n",
              "min          -15.000000    101.000000            0.000000       0.000000   \n",
              "25%            1.000000    472.000000            4.000000       3.000000   \n",
              "50%            8.000000    977.000000           14.000000       6.500000   \n",
              "75%           15.000000   1544.000000           49.000000      12.000000   \n",
              "max           36.000000   3326.000000          100.000000      32.100000   \n",
              "\n",
              "           fat_100g  \n",
              "count  68523.000000  \n",
              "mean      12.123671  \n",
              "std       12.470138  \n",
              "min        0.000000  \n",
              "25%        1.800000  \n",
              "50%        7.700000  \n",
              "75%       20.000000  \n",
              "max       57.400000  "
            ]
          },
          "metadata": {
            "tags": []
          },
          "execution_count": 33
        }
      ]
    },
    {
      "cell_type": "code",
      "metadata": {
        "colab": {
          "base_uri": "https://localhost:8080/",
          "height": 815
        },
        "id": "m8K5ezpbbDID",
        "outputId": "2c4a7623-eb85-4d39-8eb8-ac94b5f39654"
      },
      "source": [
        "data.select_dtypes(include=float).plot(kind='box', subplots=True, title=\"Après élimination d'outliers\", figsize=(30,30), layout=(4,2))\n",
        "\n",
        "plt.show()"
      ],
      "execution_count": null,
      "outputs": [
        {
          "output_type": "display_data",
          "data": {
            "image/png": "[encoded data removed]",
            "text/plain": [
              "<Figure size 2160x2160 with 8 Axes>"
            ]
          },
          "metadata": {
            "tags": []
          }
        }
      ]
    },
    {
      "cell_type": "markdown",
      "metadata": {
        "id": "uwrM9uwsUq0S"
      },
      "source": [
        "Après l'élimination, nous n'avons plus de valuers manquantes."
      ]
    },
    {
      "cell_type": "code",
      "metadata": {
        "colab": {
          "base_uri": "https://localhost:8080/"
        },
        "id": "QA-CwVd-Ur4N",
        "outputId": "cf76ddfd-4551-4764-b7e1-4cb78b471a07"
      },
      "source": [
        "data.isnull().sum()"
      ],
      "execution_count": null,
      "outputs": [
        {
          "output_type": "execute_result",
          "data": {
            "text/plain": [
              "product_name            0\n",
              "brands                  0\n",
              "categories              0\n",
              "origins                 0\n",
              "manufacturing_places    0\n",
              "stores                  0\n",
              "countries               0\n",
              "nutriscore_score        0\n",
              "nutriscore_grade        0\n",
              "energy_100g             0\n",
              "carbohydrates_100g      0\n",
              "proteins_100g           0\n",
              "fat_100g                0\n",
              "dtype: int64"
            ]
          },
          "metadata": {
            "tags": []
          },
          "execution_count": 35
        }
      ]
    },
    {
      "cell_type": "markdown",
      "metadata": {
        "id": "cUeYNSgMxIkm"
      },
      "source": [
        "Explorons la distribution de nos variables. On reviendra plus en détail dans le notebook d'exploration."
      ]
    },
    {
      "cell_type": "code",
      "metadata": {
        "colab": {
          "base_uri": "https://localhost:8080/",
          "height": 324
        },
        "id": "RpLdC8sBcdMA",
        "outputId": "c0d279a8-ae81-42db-aaaf-20cea75d4310"
      },
      "source": [
        "data.hist(figsize=(20,20), layout=(6,4))\n",
        "\n",
        "plt.show()"
      ],
      "execution_count": null,
      "outputs": [
        {
          "output_type": "display_data",
          "data": {
            "image/png": "[encoded data removed]",
            "text/plain": [
              "<Figure size 1440x1440 with 24 Axes>"
            ]
          },
          "metadata": {
            "tags": []
          }
        }
      ]
    },
    {
      "cell_type": "code",
      "metadata": {
        "id": "UvDleEYwbLHw"
      },
      "source": [
        "data = data.reset_index(drop=True)"
      ],
      "execution_count": null,
      "outputs": []
    },
    {
      "cell_type": "code",
      "metadata": {
        "colab": {
          "base_uri": "https://localhost:8080/",
          "height": 530
        },
        "id": "xF1lSfvZbncF",
        "outputId": "6cbff290-5546-4139-92f4-c91fa9cab479"
      },
      "source": [
        "data.head()"
      ],
      "execution_count": null,
      "outputs": [
        {
          "output_type": "execute_result",
          "data": {
            "text/html": [
              "<div>\n",
              "<style scoped>\n",
              "    .dataframe tbody tr th:only-of-type {\n",
              "        vertical-align: middle;\n",
              "    }\n",
              "\n",
              "    .dataframe tbody tr th {\n",
              "        vertical-align: top;\n",
              "    }\n",
              "\n",
              "    .dataframe thead th {\n",
              "        text-align: right;\n",
              "    }\n",
              "</style>\n",
              "<table border=\"1\" class=\"dataframe\">\n",
              "  <thead>\n",
              "    <tr style=\"text-align: right;\">\n",
              "      <th></th>\n",
              "      <th>product_name</th>\n",
              "      <th>brands</th>\n",
              "      <th>categories</th>\n",
              "      <th>origins</th>\n",
              "      <th>manufacturing_places</th>\n",
              "      <th>stores</th>\n",
              "      <th>countries</th>\n",
              "      <th>nutriscore_score</th>\n",
              "      <th>nutriscore_grade</th>\n",
              "      <th>energy_100g</th>\n",
              "      <th>carbohydrates_100g</th>\n",
              "      <th>proteins_100g</th>\n",
              "      <th>fat_100g</th>\n",
              "    </tr>\n",
              "  </thead>\n",
              "  <tbody>\n",
              "    <tr>\n",
              "      <th>0</th>\n",
              "      <td>moutarde au moût de raisin</td>\n",
              "      <td>courte paille</td>\n",
              "      <td>Epicerie, Condiments, Sauces, Moutardes</td>\n",
              "      <td>sans origine</td>\n",
              "      <td>non connu</td>\n",
              "      <td>courte paille</td>\n",
              "      <td>France</td>\n",
              "      <td>18.0</td>\n",
              "      <td>d</td>\n",
              "      <td>936.0</td>\n",
              "      <td>29.00</td>\n",
              "      <td>5.1</td>\n",
              "      <td>8.20</td>\n",
              "    </tr>\n",
              "    <tr>\n",
              "      <th>1</th>\n",
              "      <td>Blanquette de Volaille et son Riz</td>\n",
              "      <td>Comme J’aime</td>\n",
              "      <td>Plats préparés, Produits à la viande, Plats pr...</td>\n",
              "      <td>France</td>\n",
              "      <td>France</td>\n",
              "      <td>Comme J'aime</td>\n",
              "      <td>France</td>\n",
              "      <td>0.0</td>\n",
              "      <td>b</td>\n",
              "      <td>450.0</td>\n",
              "      <td>15.30</td>\n",
              "      <td>6.8</td>\n",
              "      <td>2.20</td>\n",
              "    </tr>\n",
              "    <tr>\n",
              "      <th>2</th>\n",
              "      <td>Pâte d'Amandes</td>\n",
              "      <td>Alice Délice</td>\n",
              "      <td>Massepain, Pâtes d'amande</td>\n",
              "      <td>sans origine</td>\n",
              "      <td>non connu</td>\n",
              "      <td>Alice Délice</td>\n",
              "      <td>France</td>\n",
              "      <td>15.0</td>\n",
              "      <td>d</td>\n",
              "      <td>1732.0</td>\n",
              "      <td>77.02</td>\n",
              "      <td>4.2</td>\n",
              "      <td>10.29</td>\n",
              "    </tr>\n",
              "    <tr>\n",
              "      <th>3</th>\n",
              "      <td>7Up</td>\n",
              "      <td>7Up,Pepsico</td>\n",
              "      <td>Aliments et boissons à base de végétaux, Boiss...</td>\n",
              "      <td>sans origine</td>\n",
              "      <td>non connu</td>\n",
              "      <td>Cora Cafétéria</td>\n",
              "      <td>France</td>\n",
              "      <td>13.0</td>\n",
              "      <td>e</td>\n",
              "      <td>177.0</td>\n",
              "      <td>10.40</td>\n",
              "      <td>0.0</td>\n",
              "      <td>0.00</td>\n",
              "    </tr>\n",
              "    <tr>\n",
              "      <th>4</th>\n",
              "      <td>Madeleines nature</td>\n",
              "      <td>Bijou</td>\n",
              "      <td>Snacks, Desserts, Snacks sucrés, Biscuits et g...</td>\n",
              "      <td>sans origine</td>\n",
              "      <td>Saint Yrieix,France</td>\n",
              "      <td>M2I,Bijou</td>\n",
              "      <td>France</td>\n",
              "      <td>14.0</td>\n",
              "      <td>d</td>\n",
              "      <td>1900.0</td>\n",
              "      <td>55.00</td>\n",
              "      <td>6.0</td>\n",
              "      <td>23.00</td>\n",
              "    </tr>\n",
              "  </tbody>\n",
              "</table>\n",
              "</div>"
            ],
            "text/plain": [
              "                        product_name         brands  \\\n",
              "0        moutarde au moût de raisin   courte paille   \n",
              "1  Blanquette de Volaille et son Riz   Comme J’aime   \n",
              "2                     Pâte d'Amandes   Alice Délice   \n",
              "3                                7Up    7Up,Pepsico   \n",
              "4                  Madeleines nature          Bijou   \n",
              "\n",
              "                                          categories       origins  \\\n",
              "0            Epicerie, Condiments, Sauces, Moutardes  sans origine   \n",
              "1  Plats préparés, Produits à la viande, Plats pr...        France   \n",
              "2                          Massepain, Pâtes d'amande  sans origine   \n",
              "3  Aliments et boissons à base de végétaux, Boiss...  sans origine   \n",
              "4  Snacks, Desserts, Snacks sucrés, Biscuits et g...  sans origine   \n",
              "\n",
              "  manufacturing_places          stores countries  nutriscore_score  \\\n",
              "0            non connu   courte paille    France              18.0   \n",
              "1               France    Comme J'aime    France               0.0   \n",
              "2            non connu    Alice Délice    France              15.0   \n",
              "3            non connu  Cora Cafétéria    France              13.0   \n",
              "4  Saint Yrieix,France       M2I,Bijou    France              14.0   \n",
              "\n",
              "  nutriscore_grade  energy_100g  carbohydrates_100g  proteins_100g  fat_100g  \n",
              "0                d        936.0               29.00            5.1      8.20  \n",
              "1                b        450.0               15.30            6.8      2.20  \n",
              "2                d       1732.0               77.02            4.2     10.29  \n",
              "3                e        177.0               10.40            0.0      0.00  \n",
              "4                d       1900.0               55.00            6.0     23.00  "
            ]
          },
          "metadata": {
            "tags": []
          },
          "execution_count": 38
        }
      ]
    },
    {
      "cell_type": "code",
      "metadata": {
        "colab": {
          "base_uri": "https://localhost:8080/"
        },
        "id": "Z4BIA_xUbpNq",
        "outputId": "912c889b-d924-4d3a-dfd2-f920de6ebbdc"
      },
      "source": [
        "print(\"Le jeu de donnés pour l'analyse exploratoire aura {} de lignes et {} de colonnes\".format(data.shape[0],data.shape[1]))"
      ],
      "execution_count": null,
      "outputs": [
        {
          "output_type": "stream",
          "text": [
            "Le jeu de donnés pour l'analyse exploratoire aura 68523 de lignes et 13 de colonnes\n"
          ],
          "name": "stdout"
        }
      ]
    },
    {
      "cell_type": "markdown",
      "metadata": {
        "id": "1WVgTfJTcBap"
      },
      "source": [
        "Finalement, nous allons sauvgarder ce jeu de données nettoyé pour la suite de notre étude; une copie de ceci est dans [ce répertoire](https://drive.google.com/drive/folders/1MhJsmuR4qSc0En1BPuHbarmG-J0Z4Xj5)"
      ]
    },
    {
      "cell_type": "code",
      "metadata": {
        "id": "yPvQFR99eT3h"
      },
      "source": [
        "data.to_csv(\"new_data.csv\",index=False)"
      ],
      "execution_count": null,
      "outputs": []
    },
    {
      "cell_type": "code",
      "metadata": {
        "id": "ObgWfnJDzxCr"
      },
      "source": [
        ""
      ],
      "execution_count": null,
      "outputs": []
    }
  ]
}